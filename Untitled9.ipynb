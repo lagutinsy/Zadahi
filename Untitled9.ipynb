{
  "nbformat": 4,
  "nbformat_minor": 0,
  "metadata": {
    "colab": {
      "provenance": [],
      "authorship_tag": "ABX9TyMtD22YxJXC952E0xBS2gNq",
      "include_colab_link": true
    },
    "kernelspec": {
      "name": "python3",
      "display_name": "Python 3"
    },
    "language_info": {
      "name": "python"
    }
  },
  "cells": [
    {
      "cell_type": "markdown",
      "metadata": {
        "id": "view-in-github",
        "colab_type": "text"
      },
      "source": [
        "<a href=\"https://colab.research.google.com/github/lagutinsy/Zadahi/blob/main/Untitled9.ipynb\" target=\"_parent\"><img src=\"https://colab.research.google.com/assets/colab-badge.svg\" alt=\"Open In Colab\"/></a>"
      ]
    },
    {
      "cell_type": "code",
      "execution_count": 119,
      "metadata": {
        "colab": {
          "base_uri": "https://localhost:8080/"
        },
        "id": "08wH6_kGAZJk",
        "outputId": "830518ca-14a3-450d-a30b-871f8292d39d"
      },
      "outputs": [
        {
          "output_type": "stream",
          "name": "stdout",
          "text": [
            "Requirement already satisfied: linearmodels in /usr/local/lib/python3.10/dist-packages (5.4)\n",
            "Requirement already satisfied: numpy>=1.22.0 in /usr/local/lib/python3.10/dist-packages (from linearmodels) (1.25.2)\n",
            "Requirement already satisfied: pandas>=1.3.0 in /usr/local/lib/python3.10/dist-packages (from linearmodels) (1.5.3)\n",
            "Requirement already satisfied: scipy>=1.5.0 in /usr/local/lib/python3.10/dist-packages (from linearmodels) (1.11.4)\n",
            "Requirement already satisfied: statsmodels>=0.12.0 in /usr/local/lib/python3.10/dist-packages (from linearmodels) (0.14.1)\n",
            "Requirement already satisfied: mypy-extensions>=0.4 in /usr/local/lib/python3.10/dist-packages (from linearmodels) (1.0.0)\n",
            "Requirement already satisfied: Cython>=0.29.37 in /usr/local/lib/python3.10/dist-packages (from linearmodels) (3.0.9)\n",
            "Requirement already satisfied: pyhdfe>=0.1 in /usr/local/lib/python3.10/dist-packages (from linearmodels) (0.2.0)\n",
            "Requirement already satisfied: formulaic>=0.6.5 in /usr/local/lib/python3.10/dist-packages (from linearmodels) (1.0.1)\n",
            "Requirement already satisfied: setuptools-scm[toml]<9.0.0,>=8.0.0 in /usr/local/lib/python3.10/dist-packages (from linearmodels) (8.0.4)\n",
            "Requirement already satisfied: interface-meta>=1.2.0 in /usr/local/lib/python3.10/dist-packages (from formulaic>=0.6.5->linearmodels) (1.3.0)\n",
            "Requirement already satisfied: typing-extensions>=4.2.0 in /usr/local/lib/python3.10/dist-packages (from formulaic>=0.6.5->linearmodels) (4.10.0)\n",
            "Requirement already satisfied: wrapt>=1.0 in /usr/local/lib/python3.10/dist-packages (from formulaic>=0.6.5->linearmodels) (1.14.1)\n",
            "Requirement already satisfied: python-dateutil>=2.8.1 in /usr/local/lib/python3.10/dist-packages (from pandas>=1.3.0->linearmodels) (2.8.2)\n",
            "Requirement already satisfied: pytz>=2020.1 in /usr/local/lib/python3.10/dist-packages (from pandas>=1.3.0->linearmodels) (2023.4)\n",
            "Requirement already satisfied: packaging>=20 in /usr/local/lib/python3.10/dist-packages (from setuptools-scm[toml]<9.0.0,>=8.0.0->linearmodels) (24.0)\n",
            "Requirement already satisfied: setuptools in /usr/local/lib/python3.10/dist-packages (from setuptools-scm[toml]<9.0.0,>=8.0.0->linearmodels) (67.7.2)\n",
            "Requirement already satisfied: tomli>=1 in /usr/local/lib/python3.10/dist-packages (from setuptools-scm[toml]<9.0.0,>=8.0.0->linearmodels) (2.0.1)\n",
            "Requirement already satisfied: patsy>=0.5.4 in /usr/local/lib/python3.10/dist-packages (from statsmodels>=0.12.0->linearmodels) (0.5.6)\n",
            "Requirement already satisfied: six in /usr/local/lib/python3.10/dist-packages (from patsy>=0.5.4->statsmodels>=0.12.0->linearmodels) (1.16.0)\n"
          ]
        }
      ],
      "source": [
        "import pandas\n",
        "import pandas as pd\n",
        "import statsmodels.api as sm\n",
        "import math\n",
        "import numpy\n",
        "from statsmodels.iolib.summary2 import summary_col\n",
        "!pip install linearmodels\n",
        "from linearmodels.iv import IV2SLS\n",
        "import statsmodels.formula.api as smf\n",
        "import scipy.stats as stats\n"
      ]
    },
    {
      "cell_type": "code",
      "source": [
        "data = pd.read_stata(\"/content/hjones.dta\")\n"
      ],
      "metadata": {
        "id": "hE3PXgepAiwV"
      },
      "execution_count": 120,
      "outputs": []
    },
    {
      "cell_type": "code",
      "source": [
        "data.head()"
      ],
      "metadata": {
        "colab": {
          "base_uri": "https://localhost:8080/",
          "height": 273
        },
        "id": "4yFNHDsFbYAd",
        "outputId": "0d3761cf-1908-46d3-f0b6-a50c104cd34d"
      },
      "execution_count": 121,
      "outputs": [
        {
          "output_type": "execute_result",
          "data": {
            "text/plain": [
              "  wbcode      wbcountr       country  hjsample  hjinput  hjlogyl   hjlogkl  \\\n",
              "0    DZA       Algeria       ALGERIA       1.0      1.0  9.35998  10.30679   \n",
              "1    AGO        Angola        ANGOLA       1.0      1.0  7.06252   6.55136   \n",
              "2    BEN         Benin         BENIN       1.0      1.0  7.64465   7.54174   \n",
              "3    BWA      Botswana      BOTSWANA       1.0      0.0  8.10645   9.19876   \n",
              "4    BFA  Burkina faso  BURKINA FASO       1.0      1.0  6.95208   6.76837   \n",
              "\n",
              "   hjalogky  hjschool  hjloghl  ...    hjlogl  hjmining  hjecorg  hjsocinf  \\\n",
              "0   0.47341   2.39000  0.32026  ...  15.49508     0.053      0.0   0.26467   \n",
              "1  -0.25558   3.09874  0.41523  ...  15.27232     0.268      0.0   0.21333   \n",
              "2  -0.05146   0.70000  0.09380  ...  14.56503     0.009      0.0   0.24366   \n",
              "3   0.54615   3.70000  0.49580  ...  12.90912     0.533      5.0   0.53428   \n",
              "4  -0.09186   3.78991  0.50785  ...  15.26451     0.001      1.0   0.24917   \n",
              "\n",
              "   hjyropen  hjgadp  hjengfra  hjeurfr  hjlogfr   hjlatitu  \n",
              "0     4.000   0.529       0.0    0.006    2.637  36.720001  \n",
              "1     0.000   0.427       0.0    0.000    2.443  -8.843000  \n",
              "2     0.111   0.376       0.0    0.000    3.742   6.364000  \n",
              "3     0.356   0.713       0.0    0.000    3.179 -21.535999  \n",
              "4     0.000   0.498       0.0    0.000    2.646  12.049000  \n",
              "\n",
              "[5 rows x 21 columns]"
            ],
            "text/html": [
              "\n",
              "  <div id=\"df-ab4ec3c0-a50a-4357-952c-afe55f095996\" class=\"colab-df-container\">\n",
              "    <div>\n",
              "<style scoped>\n",
              "    .dataframe tbody tr th:only-of-type {\n",
              "        vertical-align: middle;\n",
              "    }\n",
              "\n",
              "    .dataframe tbody tr th {\n",
              "        vertical-align: top;\n",
              "    }\n",
              "\n",
              "    .dataframe thead th {\n",
              "        text-align: right;\n",
              "    }\n",
              "</style>\n",
              "<table border=\"1\" class=\"dataframe\">\n",
              "  <thead>\n",
              "    <tr style=\"text-align: right;\">\n",
              "      <th></th>\n",
              "      <th>wbcode</th>\n",
              "      <th>wbcountr</th>\n",
              "      <th>country</th>\n",
              "      <th>hjsample</th>\n",
              "      <th>hjinput</th>\n",
              "      <th>hjlogyl</th>\n",
              "      <th>hjlogkl</th>\n",
              "      <th>hjalogky</th>\n",
              "      <th>hjschool</th>\n",
              "      <th>hjloghl</th>\n",
              "      <th>...</th>\n",
              "      <th>hjlogl</th>\n",
              "      <th>hjmining</th>\n",
              "      <th>hjecorg</th>\n",
              "      <th>hjsocinf</th>\n",
              "      <th>hjyropen</th>\n",
              "      <th>hjgadp</th>\n",
              "      <th>hjengfra</th>\n",
              "      <th>hjeurfr</th>\n",
              "      <th>hjlogfr</th>\n",
              "      <th>hjlatitu</th>\n",
              "    </tr>\n",
              "  </thead>\n",
              "  <tbody>\n",
              "    <tr>\n",
              "      <th>0</th>\n",
              "      <td>DZA</td>\n",
              "      <td>Algeria</td>\n",
              "      <td>ALGERIA</td>\n",
              "      <td>1.0</td>\n",
              "      <td>1.0</td>\n",
              "      <td>9.35998</td>\n",
              "      <td>10.30679</td>\n",
              "      <td>0.47341</td>\n",
              "      <td>2.39000</td>\n",
              "      <td>0.32026</td>\n",
              "      <td>...</td>\n",
              "      <td>15.49508</td>\n",
              "      <td>0.053</td>\n",
              "      <td>0.0</td>\n",
              "      <td>0.26467</td>\n",
              "      <td>4.000</td>\n",
              "      <td>0.529</td>\n",
              "      <td>0.0</td>\n",
              "      <td>0.006</td>\n",
              "      <td>2.637</td>\n",
              "      <td>36.720001</td>\n",
              "    </tr>\n",
              "    <tr>\n",
              "      <th>1</th>\n",
              "      <td>AGO</td>\n",
              "      <td>Angola</td>\n",
              "      <td>ANGOLA</td>\n",
              "      <td>1.0</td>\n",
              "      <td>1.0</td>\n",
              "      <td>7.06252</td>\n",
              "      <td>6.55136</td>\n",
              "      <td>-0.25558</td>\n",
              "      <td>3.09874</td>\n",
              "      <td>0.41523</td>\n",
              "      <td>...</td>\n",
              "      <td>15.27232</td>\n",
              "      <td>0.268</td>\n",
              "      <td>0.0</td>\n",
              "      <td>0.21333</td>\n",
              "      <td>0.000</td>\n",
              "      <td>0.427</td>\n",
              "      <td>0.0</td>\n",
              "      <td>0.000</td>\n",
              "      <td>2.443</td>\n",
              "      <td>-8.843000</td>\n",
              "    </tr>\n",
              "    <tr>\n",
              "      <th>2</th>\n",
              "      <td>BEN</td>\n",
              "      <td>Benin</td>\n",
              "      <td>BENIN</td>\n",
              "      <td>1.0</td>\n",
              "      <td>1.0</td>\n",
              "      <td>7.64465</td>\n",
              "      <td>7.54174</td>\n",
              "      <td>-0.05146</td>\n",
              "      <td>0.70000</td>\n",
              "      <td>0.09380</td>\n",
              "      <td>...</td>\n",
              "      <td>14.56503</td>\n",
              "      <td>0.009</td>\n",
              "      <td>0.0</td>\n",
              "      <td>0.24366</td>\n",
              "      <td>0.111</td>\n",
              "      <td>0.376</td>\n",
              "      <td>0.0</td>\n",
              "      <td>0.000</td>\n",
              "      <td>3.742</td>\n",
              "      <td>6.364000</td>\n",
              "    </tr>\n",
              "    <tr>\n",
              "      <th>3</th>\n",
              "      <td>BWA</td>\n",
              "      <td>Botswana</td>\n",
              "      <td>BOTSWANA</td>\n",
              "      <td>1.0</td>\n",
              "      <td>0.0</td>\n",
              "      <td>8.10645</td>\n",
              "      <td>9.19876</td>\n",
              "      <td>0.54615</td>\n",
              "      <td>3.70000</td>\n",
              "      <td>0.49580</td>\n",
              "      <td>...</td>\n",
              "      <td>12.90912</td>\n",
              "      <td>0.533</td>\n",
              "      <td>5.0</td>\n",
              "      <td>0.53428</td>\n",
              "      <td>0.356</td>\n",
              "      <td>0.713</td>\n",
              "      <td>0.0</td>\n",
              "      <td>0.000</td>\n",
              "      <td>3.179</td>\n",
              "      <td>-21.535999</td>\n",
              "    </tr>\n",
              "    <tr>\n",
              "      <th>4</th>\n",
              "      <td>BFA</td>\n",
              "      <td>Burkina faso</td>\n",
              "      <td>BURKINA FASO</td>\n",
              "      <td>1.0</td>\n",
              "      <td>1.0</td>\n",
              "      <td>6.95208</td>\n",
              "      <td>6.76837</td>\n",
              "      <td>-0.09186</td>\n",
              "      <td>3.78991</td>\n",
              "      <td>0.50785</td>\n",
              "      <td>...</td>\n",
              "      <td>15.26451</td>\n",
              "      <td>0.001</td>\n",
              "      <td>1.0</td>\n",
              "      <td>0.24917</td>\n",
              "      <td>0.000</td>\n",
              "      <td>0.498</td>\n",
              "      <td>0.0</td>\n",
              "      <td>0.000</td>\n",
              "      <td>2.646</td>\n",
              "      <td>12.049000</td>\n",
              "    </tr>\n",
              "  </tbody>\n",
              "</table>\n",
              "<p>5 rows × 21 columns</p>\n",
              "</div>\n",
              "    <div class=\"colab-df-buttons\">\n",
              "\n",
              "  <div class=\"colab-df-container\">\n",
              "    <button class=\"colab-df-convert\" onclick=\"convertToInteractive('df-ab4ec3c0-a50a-4357-952c-afe55f095996')\"\n",
              "            title=\"Convert this dataframe to an interactive table.\"\n",
              "            style=\"display:none;\">\n",
              "\n",
              "  <svg xmlns=\"http://www.w3.org/2000/svg\" height=\"24px\" viewBox=\"0 -960 960 960\">\n",
              "    <path d=\"M120-120v-720h720v720H120Zm60-500h600v-160H180v160Zm220 220h160v-160H400v160Zm0 220h160v-160H400v160ZM180-400h160v-160H180v160Zm440 0h160v-160H620v160ZM180-180h160v-160H180v160Zm440 0h160v-160H620v160Z\"/>\n",
              "  </svg>\n",
              "    </button>\n",
              "\n",
              "  <style>\n",
              "    .colab-df-container {\n",
              "      display:flex;\n",
              "      gap: 12px;\n",
              "    }\n",
              "\n",
              "    .colab-df-convert {\n",
              "      background-color: #E8F0FE;\n",
              "      border: none;\n",
              "      border-radius: 50%;\n",
              "      cursor: pointer;\n",
              "      display: none;\n",
              "      fill: #1967D2;\n",
              "      height: 32px;\n",
              "      padding: 0 0 0 0;\n",
              "      width: 32px;\n",
              "    }\n",
              "\n",
              "    .colab-df-convert:hover {\n",
              "      background-color: #E2EBFA;\n",
              "      box-shadow: 0px 1px 2px rgba(60, 64, 67, 0.3), 0px 1px 3px 1px rgba(60, 64, 67, 0.15);\n",
              "      fill: #174EA6;\n",
              "    }\n",
              "\n",
              "    .colab-df-buttons div {\n",
              "      margin-bottom: 4px;\n",
              "    }\n",
              "\n",
              "    [theme=dark] .colab-df-convert {\n",
              "      background-color: #3B4455;\n",
              "      fill: #D2E3FC;\n",
              "    }\n",
              "\n",
              "    [theme=dark] .colab-df-convert:hover {\n",
              "      background-color: #434B5C;\n",
              "      box-shadow: 0px 1px 3px 1px rgba(0, 0, 0, 0.15);\n",
              "      filter: drop-shadow(0px 1px 2px rgba(0, 0, 0, 0.3));\n",
              "      fill: #FFFFFF;\n",
              "    }\n",
              "  </style>\n",
              "\n",
              "    <script>\n",
              "      const buttonEl =\n",
              "        document.querySelector('#df-ab4ec3c0-a50a-4357-952c-afe55f095996 button.colab-df-convert');\n",
              "      buttonEl.style.display =\n",
              "        google.colab.kernel.accessAllowed ? 'block' : 'none';\n",
              "\n",
              "      async function convertToInteractive(key) {\n",
              "        const element = document.querySelector('#df-ab4ec3c0-a50a-4357-952c-afe55f095996');\n",
              "        const dataTable =\n",
              "          await google.colab.kernel.invokeFunction('convertToInteractive',\n",
              "                                                    [key], {});\n",
              "        if (!dataTable) return;\n",
              "\n",
              "        const docLinkHtml = 'Like what you see? Visit the ' +\n",
              "          '<a target=\"_blank\" href=https://colab.research.google.com/notebooks/data_table.ipynb>data table notebook</a>'\n",
              "          + ' to learn more about interactive tables.';\n",
              "        element.innerHTML = '';\n",
              "        dataTable['output_type'] = 'display_data';\n",
              "        await google.colab.output.renderOutput(dataTable, element);\n",
              "        const docLink = document.createElement('div');\n",
              "        docLink.innerHTML = docLinkHtml;\n",
              "        element.appendChild(docLink);\n",
              "      }\n",
              "    </script>\n",
              "  </div>\n",
              "\n",
              "\n",
              "<div id=\"df-dacddfea-590b-4c5a-84e2-00214960bc38\">\n",
              "  <button class=\"colab-df-quickchart\" onclick=\"quickchart('df-dacddfea-590b-4c5a-84e2-00214960bc38')\"\n",
              "            title=\"Suggest charts\"\n",
              "            style=\"display:none;\">\n",
              "\n",
              "<svg xmlns=\"http://www.w3.org/2000/svg\" height=\"24px\"viewBox=\"0 0 24 24\"\n",
              "     width=\"24px\">\n",
              "    <g>\n",
              "        <path d=\"M19 3H5c-1.1 0-2 .9-2 2v14c0 1.1.9 2 2 2h14c1.1 0 2-.9 2-2V5c0-1.1-.9-2-2-2zM9 17H7v-7h2v7zm4 0h-2V7h2v10zm4 0h-2v-4h2v4z\"/>\n",
              "    </g>\n",
              "</svg>\n",
              "  </button>\n",
              "\n",
              "<style>\n",
              "  .colab-df-quickchart {\n",
              "      --bg-color: #E8F0FE;\n",
              "      --fill-color: #1967D2;\n",
              "      --hover-bg-color: #E2EBFA;\n",
              "      --hover-fill-color: #174EA6;\n",
              "      --disabled-fill-color: #AAA;\n",
              "      --disabled-bg-color: #DDD;\n",
              "  }\n",
              "\n",
              "  [theme=dark] .colab-df-quickchart {\n",
              "      --bg-color: #3B4455;\n",
              "      --fill-color: #D2E3FC;\n",
              "      --hover-bg-color: #434B5C;\n",
              "      --hover-fill-color: #FFFFFF;\n",
              "      --disabled-bg-color: #3B4455;\n",
              "      --disabled-fill-color: #666;\n",
              "  }\n",
              "\n",
              "  .colab-df-quickchart {\n",
              "    background-color: var(--bg-color);\n",
              "    border: none;\n",
              "    border-radius: 50%;\n",
              "    cursor: pointer;\n",
              "    display: none;\n",
              "    fill: var(--fill-color);\n",
              "    height: 32px;\n",
              "    padding: 0;\n",
              "    width: 32px;\n",
              "  }\n",
              "\n",
              "  .colab-df-quickchart:hover {\n",
              "    background-color: var(--hover-bg-color);\n",
              "    box-shadow: 0 1px 2px rgba(60, 64, 67, 0.3), 0 1px 3px 1px rgba(60, 64, 67, 0.15);\n",
              "    fill: var(--button-hover-fill-color);\n",
              "  }\n",
              "\n",
              "  .colab-df-quickchart-complete:disabled,\n",
              "  .colab-df-quickchart-complete:disabled:hover {\n",
              "    background-color: var(--disabled-bg-color);\n",
              "    fill: var(--disabled-fill-color);\n",
              "    box-shadow: none;\n",
              "  }\n",
              "\n",
              "  .colab-df-spinner {\n",
              "    border: 2px solid var(--fill-color);\n",
              "    border-color: transparent;\n",
              "    border-bottom-color: var(--fill-color);\n",
              "    animation:\n",
              "      spin 1s steps(1) infinite;\n",
              "  }\n",
              "\n",
              "  @keyframes spin {\n",
              "    0% {\n",
              "      border-color: transparent;\n",
              "      border-bottom-color: var(--fill-color);\n",
              "      border-left-color: var(--fill-color);\n",
              "    }\n",
              "    20% {\n",
              "      border-color: transparent;\n",
              "      border-left-color: var(--fill-color);\n",
              "      border-top-color: var(--fill-color);\n",
              "    }\n",
              "    30% {\n",
              "      border-color: transparent;\n",
              "      border-left-color: var(--fill-color);\n",
              "      border-top-color: var(--fill-color);\n",
              "      border-right-color: var(--fill-color);\n",
              "    }\n",
              "    40% {\n",
              "      border-color: transparent;\n",
              "      border-right-color: var(--fill-color);\n",
              "      border-top-color: var(--fill-color);\n",
              "    }\n",
              "    60% {\n",
              "      border-color: transparent;\n",
              "      border-right-color: var(--fill-color);\n",
              "    }\n",
              "    80% {\n",
              "      border-color: transparent;\n",
              "      border-right-color: var(--fill-color);\n",
              "      border-bottom-color: var(--fill-color);\n",
              "    }\n",
              "    90% {\n",
              "      border-color: transparent;\n",
              "      border-bottom-color: var(--fill-color);\n",
              "    }\n",
              "  }\n",
              "</style>\n",
              "\n",
              "  <script>\n",
              "    async function quickchart(key) {\n",
              "      const quickchartButtonEl =\n",
              "        document.querySelector('#' + key + ' button');\n",
              "      quickchartButtonEl.disabled = true;  // To prevent multiple clicks.\n",
              "      quickchartButtonEl.classList.add('colab-df-spinner');\n",
              "      try {\n",
              "        const charts = await google.colab.kernel.invokeFunction(\n",
              "            'suggestCharts', [key], {});\n",
              "      } catch (error) {\n",
              "        console.error('Error during call to suggestCharts:', error);\n",
              "      }\n",
              "      quickchartButtonEl.classList.remove('colab-df-spinner');\n",
              "      quickchartButtonEl.classList.add('colab-df-quickchart-complete');\n",
              "    }\n",
              "    (() => {\n",
              "      let quickchartButtonEl =\n",
              "        document.querySelector('#df-dacddfea-590b-4c5a-84e2-00214960bc38 button');\n",
              "      quickchartButtonEl.style.display =\n",
              "        google.colab.kernel.accessAllowed ? 'block' : 'none';\n",
              "    })();\n",
              "  </script>\n",
              "</div>\n",
              "    </div>\n",
              "  </div>\n"
            ],
            "application/vnd.google.colaboratory.intrinsic+json": {
              "type": "dataframe",
              "variable_name": "data"
            }
          },
          "metadata": {},
          "execution_count": 121
        }
      ]
    },
    {
      "cell_type": "code",
      "source": [
        "#data.loc[data['country'] == \"ALGERIA\", 'hjyropen'] = 0 # Замена значений\n",
        "print(data.loc[0])\n"
      ],
      "metadata": {
        "id": "w8QRj8f3Aokx",
        "colab": {
          "base_uri": "https://localhost:8080/"
        },
        "outputId": "a187a407-3f2a-4a7f-eaa3-f2ebd7739fa6"
      },
      "execution_count": 147,
      "outputs": [
        {
          "output_type": "stream",
          "name": "stdout",
          "text": [
            "wbcode            DZA\n",
            "wbcountr      Algeria\n",
            "country       ALGERIA\n",
            "hjsample          1.0\n",
            "hjinput           1.0\n",
            "hjlogyl       9.35998\n",
            "hjlogkl      10.30679\n",
            "hjalogky      0.47341\n",
            "hjschool         2.39\n",
            "hjloghl       0.32026\n",
            "hjloga        8.56631\n",
            "hjlogl       15.49508\n",
            "hjmining        0.053\n",
            "hjecorg           0.0\n",
            "hjsocinf      0.26467\n",
            "hjyropen          0.0\n",
            "hjgadp          0.529\n",
            "hjengfra          0.0\n",
            "hjeurfr         0.006\n",
            "hjlogfr         2.637\n",
            "hjlatitu    36.720001\n",
            "Name: 0, dtype: object\n"
          ]
        }
      ]
    },
    {
      "cell_type": "code",
      "source": [
        "data.at[0,'hjyropen'] = 0"
      ],
      "metadata": {
        "id": "_OpUNHuNpIqQ"
      },
      "execution_count": 123,
      "outputs": []
    },
    {
      "cell_type": "code",
      "source": [
        "print(data.loc[0])"
      ],
      "metadata": {
        "colab": {
          "base_uri": "https://localhost:8080/"
        },
        "id": "28HM7a6wpM9e",
        "outputId": "5b2ca996-613d-4bb5-cbe4-0548e344d3fa"
      },
      "execution_count": 124,
      "outputs": [
        {
          "output_type": "stream",
          "name": "stdout",
          "text": [
            "wbcode            DZA\n",
            "wbcountr      Algeria\n",
            "country       ALGERIA\n",
            "hjsample          1.0\n",
            "hjinput           1.0\n",
            "hjlogyl       9.35998\n",
            "hjlogkl      10.30679\n",
            "hjalogky      0.47341\n",
            "hjschool         2.39\n",
            "hjloghl       0.32026\n",
            "hjloga        8.56631\n",
            "hjlogl       15.49508\n",
            "hjmining        0.053\n",
            "hjecorg           0.0\n",
            "hjsocinf      0.26467\n",
            "hjyropen          0.0\n",
            "hjgadp          0.529\n",
            "hjengfra          0.0\n",
            "hjeurfr         0.006\n",
            "hjlogfr         2.637\n",
            "hjlatitu    36.720001\n",
            "Name: 0, dtype: object\n"
          ]
        }
      ]
    },
    {
      "cell_type": "code",
      "source": [
        "stats = data.describe()"
      ],
      "metadata": {
        "id": "KPZ_KCWIpT4F"
      },
      "execution_count": 125,
      "outputs": []
    },
    {
      "cell_type": "code",
      "source": [
        "print(stats)"
      ],
      "metadata": {
        "colab": {
          "base_uri": "https://localhost:8080/"
        },
        "id": "bcCJHG8dpVc-",
        "outputId": "7a1d9889-bc88-4fb7-9df4-0e0d1472f1d9"
      },
      "execution_count": 126,
      "outputs": [
        {
          "output_type": "stream",
          "name": "stdout",
          "text": [
            "         hjsample     hjinput     hjlogyl     hjlogkl    hjalogky    hjschool  \\\n",
            "count  152.000000  152.000000  134.000000  127.000000  127.000000  132.000000   \n",
            "mean     0.835526    0.315789    8.805247    9.259673    0.247037    4.736835   \n",
            "std      0.371930    0.466366    1.069923    1.559372    0.319975    2.730400   \n",
            "min      0.000000    0.000000    6.918560    5.762620   -0.785060    0.540000   \n",
            "25%      1.000000    0.000000    7.853077    8.226410    0.065545    2.508740   \n",
            "50%      1.000000    0.000000    8.943380    9.568070    0.332350    4.295000   \n",
            "75%      1.000000    1.000000    9.696657   10.476265    0.473390    6.550000   \n",
            "max      1.000000    1.000000   10.475560   11.588680    0.716680   12.040000   \n",
            "\n",
            "          hjloghl      hjloga      hjlogl    hjmining     hjecorg    hjsocinf  \\\n",
            "count  127.000000  127.000000  140.000000  142.000000  152.000000  130.000000   \n",
            "mean     0.585461    7.933100   14.821251    0.056070    3.197368    0.468051   \n",
            "std      0.289514    0.727387    1.845540    0.089429    1.659967    0.250148   \n",
            "min      0.072360    6.284460   10.294840   -0.014000    0.000000    0.112670   \n",
            "25%      0.341590    7.368755   13.786833    0.004000    3.000000    0.264093   \n",
            "50%      0.567310    8.027430   14.984011    0.022000    3.000000    0.392275   \n",
            "75%      0.804660    8.546925   15.936600    0.074250    5.000000    0.654123   \n",
            "max      1.214720    9.273900   20.302891    0.533000    5.000000    1.000000   \n",
            "\n",
            "         hjyropen      hjgadp    hjengfra     hjeurfr     hjlogfr    hjlatitu  \n",
            "count  131.000000  137.000000  152.000000  152.000000  150.000000  152.000000  \n",
            "mean     0.333840    0.597168    0.094178    0.266197    2.981647   15.135369  \n",
            "std      0.342158    0.198071    0.266516    0.404050    0.799217   23.920918  \n",
            "min      0.000000    0.197000    0.000000    0.000000    0.833000  -36.891998  \n",
            "25%      0.000000    0.453000    0.000000    0.000000    2.469250    0.042750  \n",
            "50%      0.200000    0.565000    0.000000    0.000000    3.022500   13.910000  \n",
            "75%      0.655500    0.711000    0.000000    0.717500    3.488250   33.491750  \n",
            "max      1.000000    1.000000    1.000000    1.064000    5.639000   63.891998  \n"
          ]
        }
      ]
    },
    {
      "cell_type": "code",
      "source": [
        "filtered_data = data.dropna() # Фильтрация данных"
      ],
      "metadata": {
        "id": "9TZjMdJHpZ5G"
      },
      "execution_count": 127,
      "outputs": []
    },
    {
      "cell_type": "code",
      "source": [
        "stats = filtered_data.describe() # Сводка статистик переменных\n",
        "print(stats)"
      ],
      "metadata": {
        "colab": {
          "base_uri": "https://localhost:8080/"
        },
        "id": "aiB6PX_mpcV8",
        "outputId": "f27d2e03-54b7-4c49-bff1-f2d59ccdd9c0"
      },
      "execution_count": 128,
      "outputs": [
        {
          "output_type": "stream",
          "name": "stdout",
          "text": [
            "       hjsample     hjinput     hjlogyl     hjlogkl    hjalogky    hjschool  \\\n",
            "count     127.0  127.000000  127.000000  127.000000  127.000000  127.000000   \n",
            "mean        1.0    0.377953    8.765599    9.259673    0.247037    4.801749   \n",
            "std         0.0    0.486796    1.077532    1.559372    0.319975    2.744959   \n",
            "min         1.0    0.000000    6.918560    5.762620   -0.785060    0.540000   \n",
            "25%         1.0    0.000000    7.756970    8.226410    0.065545    2.549160   \n",
            "50%         1.0    0.000000    8.924810    9.568070    0.332350    4.310000   \n",
            "75%         1.0    1.000000    9.659055   10.476265    0.473390    6.660000   \n",
            "max         1.0    1.000000   10.475560   11.588680    0.716680   12.040000   \n",
            "\n",
            "          hjloghl      hjloga      hjlogl    hjmining     hjecorg    hjsocinf  \\\n",
            "count  127.000000  127.000000  127.000000  127.000000  127.000000  127.000000   \n",
            "mean     0.585461    7.933099   15.035425    0.050213    3.228346    0.473518   \n",
            "std      0.289514    0.727387    1.713211    0.078533    1.574544    0.249842   \n",
            "min      0.072360    6.284460   10.294840   -0.014000    0.000000    0.112670   \n",
            "25%      0.341590    7.368755   14.074165    0.005000    3.000000    0.266055   \n",
            "50%      0.567310    8.027430   15.049780    0.022000    3.000000    0.394940   \n",
            "75%      0.804660    8.546925   16.131175    0.065500    5.000000    0.688110   \n",
            "max      1.214720    9.273900   20.302891    0.533000    5.000000    1.000000   \n",
            "\n",
            "         hjyropen      hjgadp    hjengfra     hjeurfr     hjlogfr    hjlatitu  \n",
            "count  127.000000  127.000000  127.000000  127.000000  127.000000  127.000000  \n",
            "mean     0.342953    0.604110    0.073630    0.257449    2.864701   14.714756  \n",
            "std      0.343488    0.198426    0.238289    0.394811    0.769730   24.918507  \n",
            "min      0.000000    0.225000    0.000000    0.000000    0.833000  -36.891998  \n",
            "25%      0.000000    0.457500    0.000000    0.000000    2.414500   -1.300500  \n",
            "50%      0.222000    0.565000    0.000000    0.000000    2.903000   13.770000  \n",
            "75%      0.678000    0.718000    0.000000    0.677500    3.321000   35.230501  \n",
            "max      1.000000    1.000000    1.000000    1.004000    5.639000   63.891998  \n"
          ]
        }
      ]
    },
    {
      "cell_type": "code",
      "source": [
        "data_clean = data.dropna(subset=['hjengfra', 'hjeurfr', 'hjlogfr', 'hjlatitu', 'hjsocinf'])\n",
        "# Построение регрессии с учетом HC оценок стандартных ошибок\n",
        "X = data_clean[['hjengfra', 'hjeurfr', 'hjlogfr', 'hjlatitu']]\n",
        "X = sm.add_constant(X)\n",
        "# Добавление постоянной составляющей к модели\n",
        "y = data_clean['hjsocinf']\n",
        "model = sm.OLS(y, X).fit()\n"
      ],
      "metadata": {
        "id": "0kLYxYwmAqjp"
      },
      "execution_count": 129,
      "outputs": []
    },
    {
      "cell_type": "code",
      "source": [
        "# Регрессия с расчетом HC оценок стандартных ошибок\n",
        "robust_model = model.get_robustcov_results(cov_type='HC3')\n",
        "\n",
        "# Вывод результатов\n",
        "print(robust_model.summary())\n"
      ],
      "metadata": {
        "colab": {
          "base_uri": "https://localhost:8080/"
        },
        "id": "XuP0gwViAtHL",
        "outputId": "e9f40e91-499b-4c74-ed2c-f82ce9d5cff1"
      },
      "execution_count": 130,
      "outputs": [
        {
          "output_type": "stream",
          "name": "stdout",
          "text": [
            "                            OLS Regression Results                            \n",
            "==============================================================================\n",
            "Dep. Variable:               hjsocinf   R-squared:                       0.290\n",
            "Model:                            OLS   Adj. R-squared:                  0.268\n",
            "Method:                 Least Squares   F-statistic:                     14.12\n",
            "Date:                Mon, 25 Mar 2024   Prob (F-statistic):           1.55e-09\n",
            "Time:                        18:40:14   Log-Likelihood:                 18.465\n",
            "No. Observations:                 130   AIC:                            -26.93\n",
            "Df Residuals:                     125   BIC:                            -12.59\n",
            "Df Model:                           4                                         \n",
            "Covariance Type:                  HC3                                         \n",
            "==============================================================================\n",
            "                 coef    std err          t      P>|t|      [0.025      0.975]\n",
            "------------------------------------------------------------------------------\n",
            "const          0.2246      0.077      2.928      0.004       0.073       0.376\n",
            "hjengfra       0.1361      0.115      1.186      0.238      -0.091       0.363\n",
            "hjeurfr        0.1790      0.049      3.658      0.000       0.082       0.276\n",
            "hjlogfr        0.0452      0.027      1.685      0.094      -0.008       0.098\n",
            "hjlatitu       0.0039      0.001      4.891      0.000       0.002       0.006\n",
            "==============================================================================\n",
            "Omnibus:                        8.171   Durbin-Watson:                   1.728\n",
            "Prob(Omnibus):                  0.017   Jarque-Bera (JB):                6.046\n",
            "Skew:                           0.408   Prob(JB):                       0.0487\n",
            "Kurtosis:                       2.328   Cond. No.                         150.\n",
            "==============================================================================\n",
            "\n",
            "Notes:\n",
            "[1] Standard Errors are heteroscedasticity robust (HC3)\n"
          ]
        }
      ]
    },
    {
      "cell_type": "code",
      "source": [
        "independent = sm.add_constant(filtered_data[['hjsocinf']])\n",
        "model = sm.OLS(filtered_data['hjlogyl'], independent).fit(cov_type='HC3')\n",
        "print(model.summary())"
      ],
      "metadata": {
        "colab": {
          "base_uri": "https://localhost:8080/"
        },
        "id": "mic1ppEIxsJF",
        "outputId": "55d49dcd-d957-4c17-998d-3c7ed87dc448"
      },
      "execution_count": 131,
      "outputs": [
        {
          "output_type": "stream",
          "name": "stdout",
          "text": [
            "                            OLS Regression Results                            \n",
            "==============================================================================\n",
            "Dep. Variable:                hjlogyl   R-squared:                       0.582\n",
            "Model:                            OLS   Adj. R-squared:                  0.578\n",
            "Method:                 Least Squares   F-statistic:                     271.7\n",
            "Date:                Mon, 25 Mar 2024   Prob (F-statistic):           3.83e-33\n",
            "Time:                        18:40:23   Log-Likelihood:                -133.86\n",
            "No. Observations:                 127   AIC:                             271.7\n",
            "Df Residuals:                     125   BIC:                             277.4\n",
            "Df Model:                           1                                         \n",
            "Covariance Type:                  HC3                                         \n",
            "==============================================================================\n",
            "                 coef    std err          z      P>|z|      [0.025      0.975]\n",
            "------------------------------------------------------------------------------\n",
            "const          7.2081      0.133     54.234      0.000       6.948       7.469\n",
            "hjsocinf       3.2891      0.200     16.485      0.000       2.898       3.680\n",
            "==============================================================================\n",
            "Omnibus:                        2.343   Durbin-Watson:                   1.299\n",
            "Prob(Omnibus):                  0.310   Jarque-Bera (JB):                1.645\n",
            "Skew:                           0.008   Prob(JB):                        0.439\n",
            "Kurtosis:                       2.443   Cond. No.                         4.97\n",
            "==============================================================================\n",
            "\n",
            "Notes:\n",
            "[1] Standard Errors are heteroscedasticity robust (HC3)\n"
          ]
        }
      ]
    },
    {
      "cell_type": "code",
      "source": [
        "independent = sm.add_constant(filtered_data[['hjyropen', 'hjgadp']])\n",
        "model = sm.OLS(filtered_data['hjlogyl'], independent).fit(cov_type='HC3')\n",
        "print(model.summary())"
      ],
      "metadata": {
        "colab": {
          "base_uri": "https://localhost:8080/"
        },
        "id": "9bzfK14Ax61W",
        "outputId": "90c65c23-f5c2-4311-c439-c007c70ed223"
      },
      "execution_count": 132,
      "outputs": [
        {
          "output_type": "stream",
          "name": "stdout",
          "text": [
            "                            OLS Regression Results                            \n",
            "==============================================================================\n",
            "Dep. Variable:                hjlogyl   R-squared:                       0.612\n",
            "Model:                            OLS   Adj. R-squared:                  0.606\n",
            "Method:                 Least Squares   F-statistic:                     216.1\n",
            "Date:                Mon, 25 Mar 2024   Prob (F-statistic):           3.88e-41\n",
            "Time:                        18:40:28   Log-Likelihood:                -129.07\n",
            "No. Observations:                 127   AIC:                             264.1\n",
            "Df Residuals:                     124   BIC:                             272.7\n",
            "Df Model:                           2                                         \n",
            "Covariance Type:                  HC3                                         \n",
            "==============================================================================\n",
            "                 coef    std err          z      P>|z|      [0.025      0.975]\n",
            "------------------------------------------------------------------------------\n",
            "const          6.6844      0.162     41.185      0.000       6.366       7.002\n",
            "hjyropen       1.0031      0.222      4.524      0.000       0.569       1.438\n",
            "hjgadp         2.8757      0.311      9.253      0.000       2.267       3.485\n",
            "==============================================================================\n",
            "Omnibus:                        2.141   Durbin-Watson:                   1.228\n",
            "Prob(Omnibus):                  0.343   Jarque-Bera (JB):                1.642\n",
            "Skew:                          -0.092   Prob(JB):                        0.440\n",
            "Kurtosis:                       2.474   Cond. No.                         9.97\n",
            "==============================================================================\n",
            "\n",
            "Notes:\n",
            "[1] Standard Errors are heteroscedasticity robust (HC3)\n"
          ]
        }
      ]
    },
    {
      "cell_type": "markdown",
      "source": [
        "TODO Тест Вальда о равенстве коэффициентов при регрессорахCell In[40], line 1"
      ],
      "metadata": {
        "id": "CQWjI3yy5M38"
      }
    },
    {
      "cell_type": "code",
      "source": [
        "wald_test_results = results_aux.wald_test('hjengfra = hjeurfr = hjlogfr')\n",
        "print(wald_test_results)"
      ],
      "metadata": {
        "colab": {
          "base_uri": "https://localhost:8080/"
        },
        "id": "UrDe8_Hrx6yg",
        "outputId": "5cc5ebd5-1665-4c4a-8815-be19237f6efb"
      },
      "execution_count": 133,
      "outputs": [
        {
          "output_type": "stream",
          "name": "stdout",
          "text": [
            "<F test: F=array([[1.86448173]]), p=0.15936546989378605, df_denom=122, df_num=2>\n"
          ]
        },
        {
          "output_type": "stream",
          "name": "stderr",
          "text": [
            "/usr/local/lib/python3.10/dist-packages/statsmodels/base/model.py:1914: FutureWarning: The behavior of wald_test will change after 0.14 to returning scalar test statistic values. To get the future behavior now, set scalar to True. To silence this message while retaining the legacy behavior, set scalar to False.\n",
            "  warnings.warn(\n"
          ]
        }
      ]
    },
    {
      "cell_type": "markdown",
      "source": [
        "Полученный результат указывает на то, что значение статистики F равно примерно 1.864, p-значение равно примерно 0.159, количество степеней свободы в знаменателе (df_denom) равно 122, а количество степеней свободы в числителе (df_num) равно 2.\n",
        "\n",
        "Сообщение FutureWarning указывает на то, что поведение функции wald_test изменится после версии 0.14 библиотеки statsmodels. Для получения будущего поведения уже сейчас, установите параметр scalar=True.\n"
      ],
      "metadata": {
        "id": "0-DHxOAZ3XNN"
      }
    },
    {
      "cell_type": "code",
      "source": [
        "wald_test_results = results_aux.wald_test('hjengfra = hjeurfr = hjlogfr', scalar=True)\n",
        "print(wald_test_results)"
      ],
      "metadata": {
        "colab": {
          "base_uri": "https://localhost:8080/"
        },
        "id": "PwSGLGTr3W8P",
        "outputId": "f4982fb8-92da-40b6-a098-571b13aa6fb8"
      },
      "execution_count": 134,
      "outputs": [
        {
          "output_type": "stream",
          "name": "stdout",
          "text": [
            "<F test: F=1.8644817301121437, p=0.15936546989378605, df_denom=122, df_num=2>\n"
          ]
        }
      ]
    },
    {
      "cell_type": "code",
      "source": [
        "independent = sm.add_constant(filtered_data[['hjengfra', 'hjeurfr', 'hjlogfr', 'hjlatitu']])\n",
        "model = sm.OLS(filtered_data['hjsocinf'], independent).fit(cov_type='HC3')\n",
        "print(model.summary())"
      ],
      "metadata": {
        "colab": {
          "base_uri": "https://localhost:8080/"
        },
        "id": "M6V2esdex6sn",
        "outputId": "99a2ebef-93e0-4a4e-a5c8-38d5ff891ff4"
      },
      "execution_count": 135,
      "outputs": [
        {
          "output_type": "stream",
          "name": "stdout",
          "text": [
            "                            OLS Regression Results                            \n",
            "==============================================================================\n",
            "Dep. Variable:               hjsocinf   R-squared:                       0.296\n",
            "Model:                            OLS   Adj. R-squared:                  0.273\n",
            "Method:                 Least Squares   F-statistic:                     14.30\n",
            "Date:                Mon, 25 Mar 2024   Prob (F-statistic):           1.33e-09\n",
            "Time:                        18:40:45   Log-Likelihood:                 18.751\n",
            "No. Observations:                 127   AIC:                            -27.50\n",
            "Df Residuals:                     122   BIC:                            -13.28\n",
            "Df Model:                           4                                         \n",
            "Covariance Type:                  HC3                                         \n",
            "==============================================================================\n",
            "                 coef    std err          z      P>|z|      [0.025      0.975]\n",
            "------------------------------------------------------------------------------\n",
            "const          0.2339      0.077      3.023      0.003       0.082       0.386\n",
            "hjengfra       0.1360      0.115      1.183      0.237      -0.089       0.361\n",
            "hjeurfr        0.1704      0.049      3.485      0.000       0.075       0.266\n",
            "hjlogfr        0.0439      0.027      1.631      0.103      -0.009       0.097\n",
            "hjlatitu       0.0041      0.001      5.057      0.000       0.002       0.006\n",
            "==============================================================================\n",
            "Omnibus:                        8.761   Durbin-Watson:                   1.732\n",
            "Prob(Omnibus):                  0.013   Jarque-Bera (JB):                6.030\n",
            "Skew:                           0.397   Prob(JB):                       0.0491\n",
            "Kurtosis:                       2.287   Cond. No.                         148.\n",
            "==============================================================================\n",
            "\n",
            "Notes:\n",
            "[1] Standard Errors are heteroscedasticity robust (HC3)\n"
          ]
        }
      ]
    },
    {
      "cell_type": "code",
      "source": [
        "reg_iv = iv.IV2SLS.from_formula(formula='hjlogyl ~ 1 + [hjsocinf ~ hjengfra + hjeurfr + hjlogfr + hjlatitu]',data=filtered_data)"
      ],
      "metadata": {
        "id": "kgrJgWl7zdpx"
      },
      "execution_count": 137,
      "outputs": []
    },
    {
      "cell_type": "code",
      "source": [
        "results_iv = reg_iv.fit(cov_type='unadjusted', debiased=True)"
      ],
      "metadata": {
        "id": "RsHxXMfLy2-T"
      },
      "execution_count": 138,
      "outputs": []
    },
    {
      "cell_type": "code",
      "source": [
        "table_iv = pandas.DataFrame({'b': round(results_iv.params, 4),\n",
        "'se': round(results_iv.std_errors, 4),\n",
        "'t': round(results_iv.tstats, 4),\n",
        "'pval': round(results_iv.pvalues, 4)})\n",
        "print(f'table_iv: \\n{table_iv}\\n')"
      ],
      "metadata": {
        "colab": {
          "base_uri": "https://localhost:8080/"
        },
        "id": "sIHrAEg3y25N",
        "outputId": "36303259-1a0e-43a4-90b5-cb7241a0899f"
      },
      "execution_count": 139,
      "outputs": [
        {
          "output_type": "stream",
          "name": "stdout",
          "text": [
            "table_iv: \n",
            "                b      se        t  pval\n",
            "Intercept  6.3579  0.2685  23.6807   0.0\n",
            "hjsocinf   5.0847  0.5451   9.3275   0.0\n",
            "\n"
          ]
        }
      ]
    },
    {
      "cell_type": "code",
      "source": [
        "filtered_data.insert(0, 'iv_resids',results_iv.resids)"
      ],
      "metadata": {
        "id": "_eS-k0Juz5lp"
      },
      "execution_count": 140,
      "outputs": []
    },
    {
      "cell_type": "code",
      "source": [
        "reg_aux = smf.ols(formula='iv_resids ~ hjengfra + hjeurfr + hjlogfr + hjlatitu', data=filtered_data).fit()"
      ],
      "metadata": {
        "id": "0VnxfecWy2yH"
      },
      "execution_count": 141,
      "outputs": []
    },
    {
      "cell_type": "code",
      "source": [
        "results_aux = reg_aux"
      ],
      "metadata": {
        "id": "KU1vbdBAy2qD"
      },
      "execution_count": 142,
      "outputs": []
    },
    {
      "cell_type": "code",
      "source": [
        "# Фильтрация данных для анализа\n",
        "data_subset = data[['hjsocinf', 'hjengfra', 'hjeurfr', 'hjlogfr', 'hjlatitu', 'hjgadp', 'hjyropen']].dropna()\n",
        "\n",
        "# Обобщенная сводка статистик переменных\n",
        "print(data_subset.describe())\n"
      ],
      "metadata": {
        "colab": {
          "base_uri": "https://localhost:8080/"
        },
        "id": "rwwzIfnHAv7q",
        "outputId": "14d53648-d34f-4f4b-cbbd-e78afd8446dd"
      },
      "execution_count": 143,
      "outputs": [
        {
          "output_type": "stream",
          "name": "stdout",
          "text": [
            "         hjsocinf    hjengfra     hjeurfr     hjlogfr    hjlatitu      hjgadp  \\\n",
            "count  130.000000  130.000000  130.000000  130.000000  130.000000  130.000000   \n",
            "mean     0.468051    0.071931    0.251508    2.864154   15.024371    0.600408   \n",
            "std      0.250148    0.235764    0.392118    0.765156   24.801844    0.199895   \n",
            "min      0.112670    0.000000    0.000000    0.833000  -36.891998    0.225000   \n",
            "25%      0.264093    0.000000    0.000000    2.411250   -0.555000    0.452250   \n",
            "50%      0.392275    0.000000    0.000000    2.909500   13.772500    0.564500   \n",
            "75%      0.654123    0.000000    0.638250    3.323000   35.305251    0.712750   \n",
            "max      1.000000    1.000000    1.004000    5.639000   63.891998    1.000000   \n",
            "\n",
            "         hjyropen  \n",
            "count  130.000000  \n",
            "mean     0.335723  \n",
            "std      0.342799  \n",
            "min      0.000000  \n",
            "25%      0.000000  \n",
            "50%      0.200000  \n",
            "75%      0.661250  \n",
            "max      1.000000  \n"
          ]
        }
      ]
    },
    {
      "cell_type": "code",
      "source": [
        "import scipy.stats as stats"
      ],
      "metadata": {
        "id": "LYzAMW6V6xp4"
      },
      "execution_count": 145,
      "outputs": []
    },
    {
      "cell_type": "code",
      "source": [
        "r2 = results_aux.rsquared\n",
        "n = results_aux.nobs\n",
        "teststat = n * r2\n",
        "pval = 1 - stats.chi2.cdf(teststat, 3)\n",
        "\n",
        "print(f'r2: {r2}\\n')\n",
        "print(f'n: {n}\\n')\n",
        "print(f'teststat: {teststat}\\n')\n",
        "print(f'pval: {pval}\\n')"
      ],
      "metadata": {
        "colab": {
          "base_uri": "https://localhost:8080/"
        },
        "id": "JVvuZEMC2WI2",
        "outputId": "2c9faa56-ec67-4055-dbbf-a038e9a3707a"
      },
      "execution_count": 146,
      "outputs": [
        {
          "output_type": "stream",
          "name": "stdout",
          "text": [
            "r2: 0.03288722262526256\n",
            "\n",
            "n: 127.0\n",
            "\n",
            "teststat: 4.176677273408345\n",
            "\n",
            "pval: 0.24300733017727194\n",
            "\n"
          ]
        }
      ]
    },
    {
      "cell_type": "code",
      "source": [],
      "metadata": {
        "id": "mOsn4F8G03xa"
      },
      "execution_count": null,
      "outputs": []
    },
    {
      "cell_type": "markdown",
      "source": [
        "Проверка валидности и релевантности инструментов в инструментальных переменных (IV) моделях? при использовании IV для борьбы с проблемой эндогенности. Cтатистические тесты, которые оценивают валидность и релевантность инструментов:\n",
        "\n",
        "1. **Тест на значимость инструментов (First Stage F-test)**:\n",
        "   -тест проверяет значимость инструментов в первой стадии регрессии инструментальных переменных. Высокая значимость инструментов говорит о том, что они хорошо связаны с эндогенным регрессором.\n",
        "   - Если инструменты незначимы, это может свидетельствовать о невалидности инструментов.\n",
        "\n",
        "2. **Тест на исключение регрессоров (Hausman Test)**:\n",
        "   - тест сравнивает оценки коэффициентов в модели с инструментами и без них. Если инструменты релевантны, то оценки коэффициентов должны быть значимо различны.\n",
        "   - Если тест показывает значимость различий, это может указывать на релевантность инструментов.\n",
        "\n",
        "3. **Тест на инструментальную переменную (IV Test)**:\n",
        "   - тест проверяет статистическую значимость коэффициента инструментальной переменной в регрессии эндогенного регрессора на инструменты.\n",
        "   - Значимость этого коэффициента указывает на то, что инструмент является релевантным.\n",
        "\n",
        "4. **Тест на уровень значимости инструментов (Kleibergen-Paap F-statistic)**:\n",
        "   - тест проверяет уровень значимости инструментов, учитывая возможное гетероскедастичное распределение ошибок.\n",
        "\n",
        "5. **Тест на корреляцию инструментов с ошибками (Overidentifying Restrictions Test)**:\n",
        "   - тест проверяет корреляцию инструментов с ошибками в модели. Если тест отвергает нулевую гипотезу о некоррелированности, это может указывать на проблемы с инструментами.\n",
        "\n",
        "При использовании инструментальных переменных в анализе данных важно проводить статистические тесты для обеспечения валидности и релевантности инструментов, что позволит получить более точные и надежные оценки параметров модели."
      ],
      "metadata": {
        "id": "aK4tQDeP9VNz"
      }
    },
    {
      "cell_type": "markdown",
      "source": [
        "Для проверки экзогенности всех инструментов одновременно в модели с использованием инструментальных переменных, существуют методы и подходы, которые оценивают экзогенность инструментов:\n",
        "\n",
        "1. **Тест Хаусмана (Hausman Test)**:\n",
        "   - тест Хаусмана изначально предназначен для проверки релевантности инструментов, он также используется для проверки экзогенности инструментов. Если оценки коэффициентов с инструментами отличаются от оценок без инструментов, это может свидетельствовать о проблемах с экзогенностью.\n",
        "\n",
        "2. **Тест на инструментальные переменные (IV Test)**:\n",
        "   - проверка статистической значимости коэффициентов инструментов в регрессии эндогенного регрессора на инструменты. Если коэффициенты инструментов значимы, это может указывать на их релевантность и, возможно, экзогенность.\n",
        "\n",
        "3. **Тест на корреляцию инструментов с ошибками (Overidentifying Restrictions Test)**:\n",
        "   -  тест проверяет, коррелируют ли инструменты с ошибками модели. Если тест отвергает нулевую гипотезу о некоррелированности, это может указывать на проблемы с экзогенностью инструментов.\n",
        "\n",
        "4. **Тест на гетероскедастичность ошибок (Breusch-Pagan test)**:\n",
        "   - проверка наличия гетероскедастичности ошибок, выявляет нарушения предпосылки, включая экзогенность инструментов.\n",
        "\n",
        "Оценка экзогенности инструментов для более сложных задачей, требующей тщательного анализа предпосылок модели и проведения нескольких тестов для проверки различных аспектов экзогенности.\n"
      ],
      "metadata": {
        "id": "G5HerIi_99FM"
      }
    },
    {
      "cell_type": "markdown",
      "source": [
        "Экзогенность инструментов обычно связана с тем, что инструменты не коррелируют с ошибками модели. Это означает, что влияние инструментов на зависимую переменную происходит независимо от других факторов, исключая эндогенный регрессор.\n",
        "\n",
        "В контексте использования инструментальных переменных в эконометрике, экзогенные инструменты должны удовлетворять нескольким ключевым требованиям:\n",
        "1. Релевантность: Инструменты должны быть значимо связаны с эндогенным регрессором.\n",
        "2. Экзогенность: Инструменты должны быть некоррелированы с ошибками модели.\n",
        "\n",
        "Экономическое объяснение экзогенности инструментов связано с тем, что инструменты должны быть внешне определенными (не зависить от ошибок модели или эндогенных переменных) и быть четко экономически обоснованы свое воздействия на эндогенный регрессор."
      ],
      "metadata": {
        "id": "Wa0Ts_OL99Aq"
      }
    },
    {
      "cell_type": "markdown",
      "source": [
        "Одной из основных критик данного объяснения экзогенности инструментов в эконометрике является возможность нарушения предпосылки об экзогенности инструментов в реальных данных и моделях.\n",
        "\n",
        "1. **Проблема с выбором инструментов**:\n",
        "   - выбор правильных инструментов требует тщательного анализа. Неверный выбор инструментов может привести к нарушению предпосылки об экзогенности.\n",
        "\n",
        "2. **Эндогенность инструментов**:\n",
        "   - иногда инструменты могут быть эндогенными, т.е. коррелировать с ошибками модели. Это может возникнуть из-за неучтенных факторов или пропущенных переменных.\n",
        "\n",
        "3. **Проблема слабых инструментов**:\n",
        "   - если инструменты слабо связаны с эндогенным регрессором, это может привести к несостоятельным и неэффективным оценкам параметров модели.\n",
        "\n",
        "4. **Проблема мультиколлинеарности**:\n",
        "   - использование множества инструментов может привести к проблемам мультиколлинеарности, что может затруднить интерпретацию и оценку модели.\n",
        "\n",
        "5. **Проблема с обобщением**:\n",
        "   - некоторые экономические модели могут не учитывать все возможные источники эндогенности, что может привести к ошибкам в интерпретации результатов.\n",
        "\n",
        "6. **Проблема с тестированием**:\n",
        "   - статистические тесты на экзогенность инструментов могут быть чувствительны к различным аспектам модели и данным, что может затруднить их интерпретацию.\n",
        "\n",
        "Концепция экзогенности инструментов важна для успешного использования инструментальных переменных, ее применение требует осторожности, тщательного анализа и проверки предпосылок модели. Понимание возможных критических моментов поможет исследователям быть более осмотрительными при использовании инструментальных переменных в своих моделях."
      ],
      "metadata": {
        "id": "GKUSh8aD984m"
      }
    },
    {
      "cell_type": "markdown",
      "source": [
        "сссс"
      ],
      "metadata": {
        "id": "sX6D4mv798s2"
      }
    },
    {
      "cell_type": "markdown",
      "source": [
        "Дальше не читать"
      ],
      "metadata": {
        "id": "M_dCyJww2KEm"
      }
    },
    {
      "cell_type": "markdown",
      "source": [
        "сссс"
      ],
      "metadata": {
        "id": "Z5uFzbZT2KBu"
      }
    },
    {
      "cell_type": "markdown",
      "source": [],
      "metadata": {
        "id": "wcHN72wP2J_H"
      }
    },
    {
      "cell_type": "markdown",
      "source": [
        "сссс"
      ],
      "metadata": {
        "id": "ZH_5C6Kj2J7t"
      }
    },
    {
      "cell_type": "code",
      "source": [
        "# Прогнозирование остатков регрессии\n",
        "data_subset['res_si'] = model.resid\n",
        "data_subset['si_h'] = model.fittedvalues"
      ],
      "metadata": {
        "id": "UqOQjEKjA0qG"
      },
      "execution_count": 88,
      "outputs": []
    },
    {
      "cell_type": "code",
      "source": [
        "# Добавляем столбец-заполнитель 'hjlogyl' во фрейм данных data_subset\n",
        "data_subset['hjlogyl'] = 0  # что то не то"
      ],
      "metadata": {
        "id": "XdCmB299L4Yr"
      },
      "execution_count": 89,
      "outputs": []
    },
    {
      "cell_type": "code",
      "source": [
        "# Регрессия с использованием HC оценок стандартных ошибок\n",
        "if 'hjlogyl' in data_subset.columns:\n",
        "    model2 = sm.OLS(data_subset['hjlogyl'], sm.add_constant(data_subset['hjsocinf'])).fit(cov_type='HC')\n",
        "    print(model2.summary())\n",
        "else:\n",
        "    print(\"Column 'hjlogyl' not found in data_subset. Please check your data.\")"
      ],
      "metadata": {
        "colab": {
          "base_uri": "https://localhost:8080/"
        },
        "id": "WYN_bICfA2N6",
        "outputId": "e8d194a4-c198-45d7-c501-8203c83138f1"
      },
      "execution_count": 90,
      "outputs": [
        {
          "output_type": "stream",
          "name": "stdout",
          "text": [
            "                            OLS Regression Results                            \n",
            "==============================================================================\n",
            "Dep. Variable:                hjlogyl   R-squared:                         nan\n",
            "Model:                            OLS   Adj. R-squared:                    nan\n",
            "Method:                 Least Squares   F-statistic:                       nan\n",
            "Date:                Mon, 25 Mar 2024   Prob (F-statistic):                nan\n",
            "Time:                        18:20:07   Log-Likelihood:                    inf\n",
            "No. Observations:                 130   AIC:                              -inf\n",
            "Df Residuals:                     128   BIC:                              -inf\n",
            "Df Model:                           1                                         \n",
            "Covariance Type:                  HC1                                         \n",
            "==============================================================================\n",
            "                 coef    std err          z      P>|z|      [0.025      0.975]\n",
            "------------------------------------------------------------------------------\n",
            "const               0          0        nan        nan           0           0\n",
            "hjsocinf            0          0        nan        nan           0           0\n",
            "==============================================================================\n",
            "Omnibus:                          nan   Durbin-Watson:                     nan\n",
            "Prob(Omnibus):                    nan   Jarque-Bera (JB):                  nan\n",
            "Skew:                             nan   Prob(JB):                          nan\n",
            "Kurtosis:                         nan   Cond. No.                         4.94\n",
            "==============================================================================\n",
            "\n",
            "Notes:\n",
            "[1] Standard Errors are heteroscedasticity robust (HC1)\n"
          ]
        },
        {
          "output_type": "stream",
          "name": "stderr",
          "text": [
            "/usr/local/lib/python3.10/dist-packages/statsmodels/regression/linear_model.py:1782: RuntimeWarning: invalid value encountered in scalar divide\n",
            "  return 1 - self.ssr/self.centered_tss\n",
            "/usr/local/lib/python3.10/dist-packages/statsmodels/base/model.py:1896: ValueWarning: covariance of constraints does not have full rank. The number of constraints is 1, but rank is 0\n",
            "  warnings.warn('covariance of constraints does not have full '\n",
            "/usr/local/lib/python3.10/dist-packages/statsmodels/base/model.py:1925: RuntimeWarning: invalid value encountered in divide\n",
            "  F /= J\n",
            "/usr/local/lib/python3.10/dist-packages/statsmodels/regression/linear_model.py:957: RuntimeWarning: divide by zero encountered in log\n",
            "  llf = -nobs2*np.log(2*np.pi) - nobs2*np.log(ssr / nobs) - nobs2\n",
            "/usr/local/lib/python3.10/dist-packages/statsmodels/stats/stattools.py:50: RuntimeWarning: invalid value encountered in scalar divide\n",
            "  dw = np.sum(diff_resids**2, axis=axis) / np.sum(resids**2, axis=axis)\n"
          ]
        }
      ]
    },
    {
      "cell_type": "code",
      "source": [
        "if 'hjlogyl' in data_subset.columns:\n",
        "    model3 = sm.OLS(data_subset['hjlogyl'], sm.add_constant(data_subset[['hjsocinf', 'res_si']])).fit(cov_type='HC1')\n",
        "    print(model3.summary())\n",
        "else:\n",
        "    print(\"Column 'hjlogyl' not found in data_subset. Please check your data.\")"
      ],
      "metadata": {
        "colab": {
          "base_uri": "https://localhost:8080/",
          "height": 356
        },
        "id": "6-WCq30MA2Vt",
        "outputId": "02ef5684-483e-4c15-f57b-0a3700a37c7e"
      },
      "execution_count": 91,
      "outputs": [
        {
          "output_type": "error",
          "ename": "MissingDataError",
          "evalue": "exog contains inf or nans",
          "traceback": [
            "\u001b[0;31m---------------------------------------------------------------------------\u001b[0m",
            "\u001b[0;31mMissingDataError\u001b[0m                          Traceback (most recent call last)",
            "\u001b[0;32m<ipython-input-91-4763604cc749>\u001b[0m in \u001b[0;36m<cell line: 1>\u001b[0;34m()\u001b[0m\n\u001b[1;32m      1\u001b[0m \u001b[0;32mif\u001b[0m \u001b[0;34m'hjlogyl'\u001b[0m \u001b[0;32min\u001b[0m \u001b[0mdata_subset\u001b[0m\u001b[0;34m.\u001b[0m\u001b[0mcolumns\u001b[0m\u001b[0;34m:\u001b[0m\u001b[0;34m\u001b[0m\u001b[0;34m\u001b[0m\u001b[0m\n\u001b[0;32m----> 2\u001b[0;31m     \u001b[0mmodel3\u001b[0m \u001b[0;34m=\u001b[0m \u001b[0msm\u001b[0m\u001b[0;34m.\u001b[0m\u001b[0mOLS\u001b[0m\u001b[0;34m(\u001b[0m\u001b[0mdata_subset\u001b[0m\u001b[0;34m[\u001b[0m\u001b[0;34m'hjlogyl'\u001b[0m\u001b[0;34m]\u001b[0m\u001b[0;34m,\u001b[0m \u001b[0msm\u001b[0m\u001b[0;34m.\u001b[0m\u001b[0madd_constant\u001b[0m\u001b[0;34m(\u001b[0m\u001b[0mdata_subset\u001b[0m\u001b[0;34m[\u001b[0m\u001b[0;34m[\u001b[0m\u001b[0;34m'hjsocinf'\u001b[0m\u001b[0;34m,\u001b[0m \u001b[0;34m'res_si'\u001b[0m\u001b[0;34m]\u001b[0m\u001b[0;34m]\u001b[0m\u001b[0;34m)\u001b[0m\u001b[0;34m)\u001b[0m\u001b[0;34m.\u001b[0m\u001b[0mfit\u001b[0m\u001b[0;34m(\u001b[0m\u001b[0mcov_type\u001b[0m\u001b[0;34m=\u001b[0m\u001b[0;34m'HC1'\u001b[0m\u001b[0;34m)\u001b[0m\u001b[0;34m\u001b[0m\u001b[0;34m\u001b[0m\u001b[0m\n\u001b[0m\u001b[1;32m      3\u001b[0m     \u001b[0mprint\u001b[0m\u001b[0;34m(\u001b[0m\u001b[0mmodel3\u001b[0m\u001b[0;34m.\u001b[0m\u001b[0msummary\u001b[0m\u001b[0;34m(\u001b[0m\u001b[0;34m)\u001b[0m\u001b[0;34m)\u001b[0m\u001b[0;34m\u001b[0m\u001b[0;34m\u001b[0m\u001b[0m\n\u001b[1;32m      4\u001b[0m \u001b[0;32melse\u001b[0m\u001b[0;34m:\u001b[0m\u001b[0;34m\u001b[0m\u001b[0;34m\u001b[0m\u001b[0m\n\u001b[1;32m      5\u001b[0m     \u001b[0mprint\u001b[0m\u001b[0;34m(\u001b[0m\u001b[0;34m\"Column 'hjlogyl' not found in data_subset. Please check your data.\"\u001b[0m\u001b[0;34m)\u001b[0m\u001b[0;34m\u001b[0m\u001b[0;34m\u001b[0m\u001b[0m\n",
            "\u001b[0;32m/usr/local/lib/python3.10/dist-packages/statsmodels/regression/linear_model.py\u001b[0m in \u001b[0;36m__init__\u001b[0;34m(self, endog, exog, missing, hasconst, **kwargs)\u001b[0m\n\u001b[1;32m    921\u001b[0m                    \"An exception will be raised in the next version.\")\n\u001b[1;32m    922\u001b[0m             \u001b[0mwarnings\u001b[0m\u001b[0;34m.\u001b[0m\u001b[0mwarn\u001b[0m\u001b[0;34m(\u001b[0m\u001b[0mmsg\u001b[0m\u001b[0;34m,\u001b[0m \u001b[0mValueWarning\u001b[0m\u001b[0;34m)\u001b[0m\u001b[0;34m\u001b[0m\u001b[0;34m\u001b[0m\u001b[0m\n\u001b[0;32m--> 923\u001b[0;31m         super(OLS, self).__init__(endog, exog, missing=missing,\n\u001b[0m\u001b[1;32m    924\u001b[0m                                   hasconst=hasconst, **kwargs)\n\u001b[1;32m    925\u001b[0m         \u001b[0;32mif\u001b[0m \u001b[0;34m\"weights\"\u001b[0m \u001b[0;32min\u001b[0m \u001b[0mself\u001b[0m\u001b[0;34m.\u001b[0m\u001b[0m_init_keys\u001b[0m\u001b[0;34m:\u001b[0m\u001b[0;34m\u001b[0m\u001b[0;34m\u001b[0m\u001b[0m\n",
            "\u001b[0;32m/usr/local/lib/python3.10/dist-packages/statsmodels/regression/linear_model.py\u001b[0m in \u001b[0;36m__init__\u001b[0;34m(self, endog, exog, weights, missing, hasconst, **kwargs)\u001b[0m\n\u001b[1;32m    746\u001b[0m         \u001b[0;32melse\u001b[0m\u001b[0;34m:\u001b[0m\u001b[0;34m\u001b[0m\u001b[0;34m\u001b[0m\u001b[0m\n\u001b[1;32m    747\u001b[0m             \u001b[0mweights\u001b[0m \u001b[0;34m=\u001b[0m \u001b[0mweights\u001b[0m\u001b[0;34m.\u001b[0m\u001b[0msqueeze\u001b[0m\u001b[0;34m(\u001b[0m\u001b[0;34m)\u001b[0m\u001b[0;34m\u001b[0m\u001b[0;34m\u001b[0m\u001b[0m\n\u001b[0;32m--> 748\u001b[0;31m         super(WLS, self).__init__(endog, exog, missing=missing,\n\u001b[0m\u001b[1;32m    749\u001b[0m                                   weights=weights, hasconst=hasconst, **kwargs)\n\u001b[1;32m    750\u001b[0m         \u001b[0mnobs\u001b[0m \u001b[0;34m=\u001b[0m \u001b[0mself\u001b[0m\u001b[0;34m.\u001b[0m\u001b[0mexog\u001b[0m\u001b[0;34m.\u001b[0m\u001b[0mshape\u001b[0m\u001b[0;34m[\u001b[0m\u001b[0;36m0\u001b[0m\u001b[0;34m]\u001b[0m\u001b[0;34m\u001b[0m\u001b[0;34m\u001b[0m\u001b[0m\n",
            "\u001b[0;32m/usr/local/lib/python3.10/dist-packages/statsmodels/regression/linear_model.py\u001b[0m in \u001b[0;36m__init__\u001b[0;34m(self, endog, exog, **kwargs)\u001b[0m\n\u001b[1;32m    200\u001b[0m     \"\"\"\n\u001b[1;32m    201\u001b[0m     \u001b[0;32mdef\u001b[0m \u001b[0m__init__\u001b[0m\u001b[0;34m(\u001b[0m\u001b[0mself\u001b[0m\u001b[0;34m,\u001b[0m \u001b[0mendog\u001b[0m\u001b[0;34m,\u001b[0m \u001b[0mexog\u001b[0m\u001b[0;34m,\u001b[0m \u001b[0;34m**\u001b[0m\u001b[0mkwargs\u001b[0m\u001b[0;34m)\u001b[0m\u001b[0;34m:\u001b[0m\u001b[0;34m\u001b[0m\u001b[0;34m\u001b[0m\u001b[0m\n\u001b[0;32m--> 202\u001b[0;31m         \u001b[0msuper\u001b[0m\u001b[0;34m(\u001b[0m\u001b[0mRegressionModel\u001b[0m\u001b[0;34m,\u001b[0m \u001b[0mself\u001b[0m\u001b[0;34m)\u001b[0m\u001b[0;34m.\u001b[0m\u001b[0m__init__\u001b[0m\u001b[0;34m(\u001b[0m\u001b[0mendog\u001b[0m\u001b[0;34m,\u001b[0m \u001b[0mexog\u001b[0m\u001b[0;34m,\u001b[0m \u001b[0;34m**\u001b[0m\u001b[0mkwargs\u001b[0m\u001b[0;34m)\u001b[0m\u001b[0;34m\u001b[0m\u001b[0;34m\u001b[0m\u001b[0m\n\u001b[0m\u001b[1;32m    203\u001b[0m         \u001b[0mself\u001b[0m\u001b[0;34m.\u001b[0m\u001b[0mpinv_wexog\u001b[0m\u001b[0;34m:\u001b[0m \u001b[0mFloat64Array\u001b[0m \u001b[0;34m|\u001b[0m \u001b[0;32mNone\u001b[0m \u001b[0;34m=\u001b[0m \u001b[0;32mNone\u001b[0m\u001b[0;34m\u001b[0m\u001b[0;34m\u001b[0m\u001b[0m\n\u001b[1;32m    204\u001b[0m         \u001b[0mself\u001b[0m\u001b[0;34m.\u001b[0m\u001b[0m_data_attr\u001b[0m\u001b[0;34m.\u001b[0m\u001b[0mextend\u001b[0m\u001b[0;34m(\u001b[0m\u001b[0;34m[\u001b[0m\u001b[0;34m'pinv_wexog'\u001b[0m\u001b[0;34m,\u001b[0m \u001b[0;34m'wendog'\u001b[0m\u001b[0;34m,\u001b[0m \u001b[0;34m'wexog'\u001b[0m\u001b[0;34m,\u001b[0m \u001b[0;34m'weights'\u001b[0m\u001b[0;34m]\u001b[0m\u001b[0;34m)\u001b[0m\u001b[0;34m\u001b[0m\u001b[0;34m\u001b[0m\u001b[0m\n",
            "\u001b[0;32m/usr/local/lib/python3.10/dist-packages/statsmodels/base/model.py\u001b[0m in \u001b[0;36m__init__\u001b[0;34m(self, endog, exog, **kwargs)\u001b[0m\n\u001b[1;32m    268\u001b[0m \u001b[0;34m\u001b[0m\u001b[0m\n\u001b[1;32m    269\u001b[0m     \u001b[0;32mdef\u001b[0m \u001b[0m__init__\u001b[0m\u001b[0;34m(\u001b[0m\u001b[0mself\u001b[0m\u001b[0;34m,\u001b[0m \u001b[0mendog\u001b[0m\u001b[0;34m,\u001b[0m \u001b[0mexog\u001b[0m\u001b[0;34m=\u001b[0m\u001b[0;32mNone\u001b[0m\u001b[0;34m,\u001b[0m \u001b[0;34m**\u001b[0m\u001b[0mkwargs\u001b[0m\u001b[0;34m)\u001b[0m\u001b[0;34m:\u001b[0m\u001b[0;34m\u001b[0m\u001b[0;34m\u001b[0m\u001b[0m\n\u001b[0;32m--> 270\u001b[0;31m         \u001b[0msuper\u001b[0m\u001b[0;34m(\u001b[0m\u001b[0;34m)\u001b[0m\u001b[0;34m.\u001b[0m\u001b[0m__init__\u001b[0m\u001b[0;34m(\u001b[0m\u001b[0mendog\u001b[0m\u001b[0;34m,\u001b[0m \u001b[0mexog\u001b[0m\u001b[0;34m,\u001b[0m \u001b[0;34m**\u001b[0m\u001b[0mkwargs\u001b[0m\u001b[0;34m)\u001b[0m\u001b[0;34m\u001b[0m\u001b[0;34m\u001b[0m\u001b[0m\n\u001b[0m\u001b[1;32m    271\u001b[0m         \u001b[0mself\u001b[0m\u001b[0;34m.\u001b[0m\u001b[0minitialize\u001b[0m\u001b[0;34m(\u001b[0m\u001b[0;34m)\u001b[0m\u001b[0;34m\u001b[0m\u001b[0;34m\u001b[0m\u001b[0m\n\u001b[1;32m    272\u001b[0m \u001b[0;34m\u001b[0m\u001b[0m\n",
            "\u001b[0;32m/usr/local/lib/python3.10/dist-packages/statsmodels/base/model.py\u001b[0m in \u001b[0;36m__init__\u001b[0;34m(self, endog, exog, **kwargs)\u001b[0m\n\u001b[1;32m     93\u001b[0m         \u001b[0mmissing\u001b[0m \u001b[0;34m=\u001b[0m \u001b[0mkwargs\u001b[0m\u001b[0;34m.\u001b[0m\u001b[0mpop\u001b[0m\u001b[0;34m(\u001b[0m\u001b[0;34m'missing'\u001b[0m\u001b[0;34m,\u001b[0m \u001b[0;34m'none'\u001b[0m\u001b[0;34m)\u001b[0m\u001b[0;34m\u001b[0m\u001b[0;34m\u001b[0m\u001b[0m\n\u001b[1;32m     94\u001b[0m         \u001b[0mhasconst\u001b[0m \u001b[0;34m=\u001b[0m \u001b[0mkwargs\u001b[0m\u001b[0;34m.\u001b[0m\u001b[0mpop\u001b[0m\u001b[0;34m(\u001b[0m\u001b[0;34m'hasconst'\u001b[0m\u001b[0;34m,\u001b[0m \u001b[0;32mNone\u001b[0m\u001b[0;34m)\u001b[0m\u001b[0;34m\u001b[0m\u001b[0;34m\u001b[0m\u001b[0m\n\u001b[0;32m---> 95\u001b[0;31m         self.data = self._handle_data(endog, exog, missing, hasconst,\n\u001b[0m\u001b[1;32m     96\u001b[0m                                       **kwargs)\n\u001b[1;32m     97\u001b[0m         \u001b[0mself\u001b[0m\u001b[0;34m.\u001b[0m\u001b[0mk_constant\u001b[0m \u001b[0;34m=\u001b[0m \u001b[0mself\u001b[0m\u001b[0;34m.\u001b[0m\u001b[0mdata\u001b[0m\u001b[0;34m.\u001b[0m\u001b[0mk_constant\u001b[0m\u001b[0;34m\u001b[0m\u001b[0;34m\u001b[0m\u001b[0m\n",
            "\u001b[0;32m/usr/local/lib/python3.10/dist-packages/statsmodels/base/model.py\u001b[0m in \u001b[0;36m_handle_data\u001b[0;34m(self, endog, exog, missing, hasconst, **kwargs)\u001b[0m\n\u001b[1;32m    133\u001b[0m \u001b[0;34m\u001b[0m\u001b[0m\n\u001b[1;32m    134\u001b[0m     \u001b[0;32mdef\u001b[0m \u001b[0m_handle_data\u001b[0m\u001b[0;34m(\u001b[0m\u001b[0mself\u001b[0m\u001b[0;34m,\u001b[0m \u001b[0mendog\u001b[0m\u001b[0;34m,\u001b[0m \u001b[0mexog\u001b[0m\u001b[0;34m,\u001b[0m \u001b[0mmissing\u001b[0m\u001b[0;34m,\u001b[0m \u001b[0mhasconst\u001b[0m\u001b[0;34m,\u001b[0m \u001b[0;34m**\u001b[0m\u001b[0mkwargs\u001b[0m\u001b[0;34m)\u001b[0m\u001b[0;34m:\u001b[0m\u001b[0;34m\u001b[0m\u001b[0;34m\u001b[0m\u001b[0m\n\u001b[0;32m--> 135\u001b[0;31m         \u001b[0mdata\u001b[0m \u001b[0;34m=\u001b[0m \u001b[0mhandle_data\u001b[0m\u001b[0;34m(\u001b[0m\u001b[0mendog\u001b[0m\u001b[0;34m,\u001b[0m \u001b[0mexog\u001b[0m\u001b[0;34m,\u001b[0m \u001b[0mmissing\u001b[0m\u001b[0;34m,\u001b[0m \u001b[0mhasconst\u001b[0m\u001b[0;34m,\u001b[0m \u001b[0;34m**\u001b[0m\u001b[0mkwargs\u001b[0m\u001b[0;34m)\u001b[0m\u001b[0;34m\u001b[0m\u001b[0;34m\u001b[0m\u001b[0m\n\u001b[0m\u001b[1;32m    136\u001b[0m         \u001b[0;31m# kwargs arrays could have changed, easier to just attach here\u001b[0m\u001b[0;34m\u001b[0m\u001b[0;34m\u001b[0m\u001b[0m\n\u001b[1;32m    137\u001b[0m         \u001b[0;32mfor\u001b[0m \u001b[0mkey\u001b[0m \u001b[0;32min\u001b[0m \u001b[0mkwargs\u001b[0m\u001b[0;34m:\u001b[0m\u001b[0;34m\u001b[0m\u001b[0;34m\u001b[0m\u001b[0m\n",
            "\u001b[0;32m/usr/local/lib/python3.10/dist-packages/statsmodels/base/data.py\u001b[0m in \u001b[0;36mhandle_data\u001b[0;34m(endog, exog, missing, hasconst, **kwargs)\u001b[0m\n\u001b[1;32m    673\u001b[0m \u001b[0;34m\u001b[0m\u001b[0m\n\u001b[1;32m    674\u001b[0m     \u001b[0mklass\u001b[0m \u001b[0;34m=\u001b[0m \u001b[0mhandle_data_class_factory\u001b[0m\u001b[0;34m(\u001b[0m\u001b[0mendog\u001b[0m\u001b[0;34m,\u001b[0m \u001b[0mexog\u001b[0m\u001b[0;34m)\u001b[0m\u001b[0;34m\u001b[0m\u001b[0;34m\u001b[0m\u001b[0m\n\u001b[0;32m--> 675\u001b[0;31m     return klass(endog, exog=exog, missing=missing, hasconst=hasconst,\n\u001b[0m\u001b[1;32m    676\u001b[0m                  **kwargs)\n",
            "\u001b[0;32m/usr/local/lib/python3.10/dist-packages/statsmodels/base/data.py\u001b[0m in \u001b[0;36m__init__\u001b[0;34m(self, endog, exog, missing, hasconst, **kwargs)\u001b[0m\n\u001b[1;32m     86\u001b[0m         \u001b[0mself\u001b[0m\u001b[0;34m.\u001b[0m\u001b[0mconst_idx\u001b[0m \u001b[0;34m=\u001b[0m \u001b[0;32mNone\u001b[0m\u001b[0;34m\u001b[0m\u001b[0;34m\u001b[0m\u001b[0m\n\u001b[1;32m     87\u001b[0m         \u001b[0mself\u001b[0m\u001b[0;34m.\u001b[0m\u001b[0mk_constant\u001b[0m \u001b[0;34m=\u001b[0m \u001b[0;36m0\u001b[0m\u001b[0;34m\u001b[0m\u001b[0;34m\u001b[0m\u001b[0m\n\u001b[0;32m---> 88\u001b[0;31m         \u001b[0mself\u001b[0m\u001b[0;34m.\u001b[0m\u001b[0m_handle_constant\u001b[0m\u001b[0;34m(\u001b[0m\u001b[0mhasconst\u001b[0m\u001b[0;34m)\u001b[0m\u001b[0;34m\u001b[0m\u001b[0;34m\u001b[0m\u001b[0m\n\u001b[0m\u001b[1;32m     89\u001b[0m         \u001b[0mself\u001b[0m\u001b[0;34m.\u001b[0m\u001b[0m_check_integrity\u001b[0m\u001b[0;34m(\u001b[0m\u001b[0;34m)\u001b[0m\u001b[0;34m\u001b[0m\u001b[0;34m\u001b[0m\u001b[0m\n\u001b[1;32m     90\u001b[0m         \u001b[0mself\u001b[0m\u001b[0;34m.\u001b[0m\u001b[0m_cache\u001b[0m \u001b[0;34m=\u001b[0m \u001b[0;34m{\u001b[0m\u001b[0;34m}\u001b[0m\u001b[0;34m\u001b[0m\u001b[0;34m\u001b[0m\u001b[0m\n",
            "\u001b[0;32m/usr/local/lib/python3.10/dist-packages/statsmodels/base/data.py\u001b[0m in \u001b[0;36m_handle_constant\u001b[0;34m(self, hasconst)\u001b[0m\n\u001b[1;32m    132\u001b[0m             \u001b[0mexog_max\u001b[0m \u001b[0;34m=\u001b[0m \u001b[0mnp\u001b[0m\u001b[0;34m.\u001b[0m\u001b[0mmax\u001b[0m\u001b[0;34m(\u001b[0m\u001b[0mself\u001b[0m\u001b[0;34m.\u001b[0m\u001b[0mexog\u001b[0m\u001b[0;34m,\u001b[0m \u001b[0maxis\u001b[0m\u001b[0;34m=\u001b[0m\u001b[0;36m0\u001b[0m\u001b[0;34m)\u001b[0m\u001b[0;34m\u001b[0m\u001b[0;34m\u001b[0m\u001b[0m\n\u001b[1;32m    133\u001b[0m             \u001b[0;32mif\u001b[0m \u001b[0;32mnot\u001b[0m \u001b[0mnp\u001b[0m\u001b[0;34m.\u001b[0m\u001b[0misfinite\u001b[0m\u001b[0;34m(\u001b[0m\u001b[0mexog_max\u001b[0m\u001b[0;34m)\u001b[0m\u001b[0;34m.\u001b[0m\u001b[0mall\u001b[0m\u001b[0;34m(\u001b[0m\u001b[0;34m)\u001b[0m\u001b[0;34m:\u001b[0m\u001b[0;34m\u001b[0m\u001b[0;34m\u001b[0m\u001b[0m\n\u001b[0;32m--> 134\u001b[0;31m                 \u001b[0;32mraise\u001b[0m \u001b[0mMissingDataError\u001b[0m\u001b[0;34m(\u001b[0m\u001b[0;34m'exog contains inf or nans'\u001b[0m\u001b[0;34m)\u001b[0m\u001b[0;34m\u001b[0m\u001b[0;34m\u001b[0m\u001b[0m\n\u001b[0m\u001b[1;32m    135\u001b[0m             \u001b[0mexog_min\u001b[0m \u001b[0;34m=\u001b[0m \u001b[0mnp\u001b[0m\u001b[0;34m.\u001b[0m\u001b[0mmin\u001b[0m\u001b[0;34m(\u001b[0m\u001b[0mself\u001b[0m\u001b[0;34m.\u001b[0m\u001b[0mexog\u001b[0m\u001b[0;34m,\u001b[0m \u001b[0maxis\u001b[0m\u001b[0;34m=\u001b[0m\u001b[0;36m0\u001b[0m\u001b[0;34m)\u001b[0m\u001b[0;34m\u001b[0m\u001b[0;34m\u001b[0m\u001b[0m\n\u001b[1;32m    136\u001b[0m             \u001b[0mconst_idx\u001b[0m \u001b[0;34m=\u001b[0m \u001b[0mnp\u001b[0m\u001b[0;34m.\u001b[0m\u001b[0mwhere\u001b[0m\u001b[0;34m(\u001b[0m\u001b[0mexog_max\u001b[0m \u001b[0;34m==\u001b[0m \u001b[0mexog_min\u001b[0m\u001b[0;34m)\u001b[0m\u001b[0;34m[\u001b[0m\u001b[0;36m0\u001b[0m\u001b[0;34m]\u001b[0m\u001b[0;34m.\u001b[0m\u001b[0msqueeze\u001b[0m\u001b[0;34m(\u001b[0m\u001b[0;34m)\u001b[0m\u001b[0;34m\u001b[0m\u001b[0;34m\u001b[0m\u001b[0m\n",
            "\u001b[0;31mMissingDataError\u001b[0m: exog contains inf or nans"
          ]
        }
      ]
    },
    {
      "cell_type": "code",
      "source": [
        "if 'hjlogyl' in data_subset.columns:\n",
        "    model4 = sm.OLS(data_subset['hjlogyl'], sm.add_constant(data_subset['si_h'])).fit(cov_type='HC1')\n",
        "    print(model4.summary())\n",
        "else:\n",
        "    print(\"Column 'hjlogyl' not found in data_subset. Please check your data.\")"
      ],
      "metadata": {
        "colab": {
          "base_uri": "https://localhost:8080/"
        },
        "id": "Yb-W65VjA2ZI",
        "outputId": "76048fb8-ec1e-4fdb-be7a-4b94368855f7"
      },
      "execution_count": null,
      "outputs": [
        {
          "output_type": "stream",
          "name": "stdout",
          "text": [
            "Column 'hjlogyl' not found in data_subset. Please check your data.\n"
          ]
        }
      ]
    },
    {
      "cell_type": "code",
      "source": [
        "# 2SLS регрессия для инструментальных переменных\n",
        "iv_model = IV2SLS.from_formula('hjlogfr ~ 1 + [hjsocinf ~ hjengfra + hjeurfr + hjlogfr + hjlatitu]', data_subset).fit(cov_type='robust')\n",
        "print(iv_model)"
      ],
      "metadata": {
        "colab": {
          "base_uri": "https://localhost:8080/"
        },
        "id": "cVHB4DUgA2cI",
        "outputId": "a973cbfb-d7b1-4ce8-9677-e49c040d1e5e"
      },
      "execution_count": null,
      "outputs": [
        {
          "output_type": "stream",
          "name": "stdout",
          "text": [
            "                          IV-2SLS Estimation Summary                          \n",
            "==============================================================================\n",
            "Dep. Variable:                hjlogfr   R-squared:                     -0.1469\n",
            "Estimator:                    IV-2SLS   Adj. R-squared:                -0.1559\n",
            "No. Observations:                 130   F-statistic:                    10.587\n",
            "Date:                Fri, Mar 22 2024   P-value (F-stat)                0.0011\n",
            "Time:                        18:32:48   Distribution:                  chi2(1)\n",
            "Cov. Estimator:                robust                                         \n",
            "                                                                              \n",
            "                             Parameter Estimates                              \n",
            "==============================================================================\n",
            "            Parameter  Std. Err.     T-stat    P-value    Lower CI    Upper CI\n",
            "------------------------------------------------------------------------------\n",
            "Intercept      2.0168     0.2517     8.0144     0.0000      1.5236      2.5101\n",
            "hjsocinf       1.8103     0.5564     3.2538     0.0011      0.7199      2.9008\n",
            "==============================================================================\n",
            "\n",
            "Endogenous: hjsocinf\n",
            "Instruments: hjengfra, hjeurfr, hjlogfr, hjlatitu\n",
            "Robust Covariance (Heteroskedastic)\n",
            "Debiased: False\n"
          ]
        }
      ]
    },
    {
      "cell_type": "code",
      "source": [
        "# Регрессия с использованием HC оценок стандартных ошибок\n",
        "# Добавляем столбец-заполнитель 'hjlogyl' во фрейм данных data_subset\n",
        "data_subset['hjlogyl'] = 0  # You can replace 0 with the appropriate values\n",
        "\n",
        "# Fit the OLS model\n",
        "model5 = sm.OLS(data_subset['hjlogyl'], sm.add_constant(data_subset[['hjgadp', 'hjyropen']])).fit(cov_type='HC1')\n",
        "print(model5.summary())"
      ],
      "metadata": {
        "colab": {
          "base_uri": "https://localhost:8080/"
        },
        "id": "nUrcTFU_A2e_",
        "outputId": "7fc8d855-46d5-4584-add0-aaa2401760cb"
      },
      "execution_count": null,
      "outputs": [
        {
          "output_type": "stream",
          "name": "stdout",
          "text": [
            "                            OLS Regression Results                            \n",
            "==============================================================================\n",
            "Dep. Variable:                hjlogyl   R-squared:                         nan\n",
            "Model:                            OLS   Adj. R-squared:                    nan\n",
            "Method:                 Least Squares   F-statistic:                       nan\n",
            "Date:                Fri, 22 Mar 2024   Prob (F-statistic):                nan\n",
            "Time:                        18:32:50   Log-Likelihood:                    inf\n",
            "No. Observations:                 130   AIC:                              -inf\n",
            "Df Residuals:                     127   BIC:                              -inf\n",
            "Df Model:                           2                                         \n",
            "Covariance Type:                  HC1                                         \n",
            "==============================================================================\n",
            "                 coef    std err          z      P>|z|      [0.025      0.975]\n",
            "------------------------------------------------------------------------------\n",
            "const               0          0        nan        nan           0           0\n",
            "hjgadp              0          0        nan        nan           0           0\n",
            "hjyropen            0          0        nan        nan           0           0\n",
            "==============================================================================\n",
            "Omnibus:                          nan   Durbin-Watson:                     nan\n",
            "Prob(Omnibus):                    nan   Jarque-Bera (JB):                  nan\n",
            "Skew:                             nan   Prob(JB):                          nan\n",
            "Kurtosis:                         nan   Cond. No.                         8.14\n",
            "==============================================================================\n",
            "\n",
            "Notes:\n",
            "[1] Standard Errors are heteroscedasticity robust (HC1)\n"
          ]
        },
        {
          "output_type": "stream",
          "name": "stderr",
          "text": [
            "/usr/local/lib/python3.10/dist-packages/statsmodels/regression/linear_model.py:1782: RuntimeWarning: invalid value encountered in scalar divide\n",
            "  return 1 - self.ssr/self.centered_tss\n",
            "/usr/local/lib/python3.10/dist-packages/statsmodels/base/model.py:1896: ValueWarning: covariance of constraints does not have full rank. The number of constraints is 2, but rank is 0\n",
            "  warnings.warn('covariance of constraints does not have full '\n",
            "/usr/local/lib/python3.10/dist-packages/statsmodels/base/model.py:1925: RuntimeWarning: invalid value encountered in divide\n",
            "  F /= J\n",
            "/usr/local/lib/python3.10/dist-packages/statsmodels/regression/linear_model.py:957: RuntimeWarning: divide by zero encountered in log\n",
            "  llf = -nobs2*np.log(2*np.pi) - nobs2*np.log(ssr / nobs) - nobs2\n",
            "/usr/local/lib/python3.10/dist-packages/statsmodels/stats/stattools.py:50: RuntimeWarning: invalid value encountered in scalar divide\n",
            "  dw = np.sum(diff_resids**2, axis=axis) / np.sum(resids**2, axis=axis)\n"
          ]
        }
      ]
    },
    {
      "cell_type": "code",
      "source": [
        "# 2SLS регрессия\n",
        "from linearmodels.iv import IV2SLS\n",
        "\n",
        "iv_model2 = IV2SLS.from_formula('hjlogyl ~ 1', data=data_subset)\n",
        "\n",
        "endog1 = 'hjgadp'\n",
        "instruments1 = ['hjengfra', 'hjeurfr', 'hjlogfr', 'hjlatitu']\n",
        "\n",
        "endog2 = 'hjyropen'\n",
        "instruments2 = ['hjengfra', 'hjeurfr', 'hjlogfr', 'hjlatitu']\n",
        "\n",
        "iv_model2.add_endog(endog1, instruments1)\n",
        "iv_model2.add_endog(endog2, instruments2)\n",
        "\n",
        "iv_model2.fit(cov_type='robust')\n",
        "print(iv_model2)"
      ],
      "metadata": {
        "colab": {
          "base_uri": "https://localhost:8080/",
          "height": 211
        },
        "id": "MXn5aE3hA2hv",
        "outputId": "e4254af2-00aa-41b8-def3-9783374ab221"
      },
      "execution_count": null,
      "outputs": [
        {
          "output_type": "error",
          "ename": "AttributeError",
          "evalue": "'IV2SLS' object has no attribute 'add_endog'",
          "traceback": [
            "\u001b[0;31m---------------------------------------------------------------------------\u001b[0m",
            "\u001b[0;31mAttributeError\u001b[0m                            Traceback (most recent call last)",
            "\u001b[0;32m<ipython-input-15-71602e067e7e>\u001b[0m in \u001b[0;36m<cell line: 12>\u001b[0;34m()\u001b[0m\n\u001b[1;32m     10\u001b[0m \u001b[0minstruments2\u001b[0m \u001b[0;34m=\u001b[0m \u001b[0;34m[\u001b[0m\u001b[0;34m'hjengfra'\u001b[0m\u001b[0;34m,\u001b[0m \u001b[0;34m'hjeurfr'\u001b[0m\u001b[0;34m,\u001b[0m \u001b[0;34m'hjlogfr'\u001b[0m\u001b[0;34m,\u001b[0m \u001b[0;34m'hjlatitu'\u001b[0m\u001b[0;34m]\u001b[0m\u001b[0;34m\u001b[0m\u001b[0;34m\u001b[0m\u001b[0m\n\u001b[1;32m     11\u001b[0m \u001b[0;34m\u001b[0m\u001b[0m\n\u001b[0;32m---> 12\u001b[0;31m \u001b[0miv_model2\u001b[0m\u001b[0;34m.\u001b[0m\u001b[0madd_endog\u001b[0m\u001b[0;34m(\u001b[0m\u001b[0mendog1\u001b[0m\u001b[0;34m,\u001b[0m \u001b[0minstruments1\u001b[0m\u001b[0;34m)\u001b[0m\u001b[0;34m\u001b[0m\u001b[0;34m\u001b[0m\u001b[0m\n\u001b[0m\u001b[1;32m     13\u001b[0m \u001b[0miv_model2\u001b[0m\u001b[0;34m.\u001b[0m\u001b[0madd_endog\u001b[0m\u001b[0;34m(\u001b[0m\u001b[0mendog2\u001b[0m\u001b[0;34m,\u001b[0m \u001b[0minstruments2\u001b[0m\u001b[0;34m)\u001b[0m\u001b[0;34m\u001b[0m\u001b[0;34m\u001b[0m\u001b[0m\n\u001b[1;32m     14\u001b[0m \u001b[0;34m\u001b[0m\u001b[0m\n",
            "\u001b[0;31mAttributeError\u001b[0m: 'IV2SLS' object has no attribute 'add_endog'"
          ]
        }
      ]
    },
    {
      "cell_type": "code",
      "source": [
        "# Регрессия hjgadp по hjengfra, hjeurfr, hjlogfr, hjlatitu\n",
        "model6 = sm.OLS(data_subset['hjgadp'], sm.add_constant(data_subset[['hjengfra', 'hjeurfr', 'hjlogfr', 'hjlatitu']])).fit()\n",
        "data_subset['hjgadp_h'] = model6.predict()\n",
        "data_subset['hjgadp_res'] = model6.resid"
      ],
      "metadata": {
        "id": "oWP14qeqA2kU"
      },
      "execution_count": null,
      "outputs": []
    },
    {
      "cell_type": "code",
      "source": [
        "# Регрессия hjyropen по hjengfra, hjeurfr, hjlogfr, hjlatitu\n",
        "model7 = sm.OLS(data_subset['hjyropen'], sm.add_constant(data_subset[['hjengfra', 'hjeurfr', 'hjlogfr', 'hjlatitu']])).fit()\n",
        "data_subset['hjyropen_h'] = model7.predict()\n",
        "data_subset['hjyropen_res'] = model7.resid"
      ],
      "metadata": {
        "id": "tmUHtwbcA2nE"
      },
      "execution_count": null,
      "outputs": []
    },
    {
      "cell_type": "code",
      "source": [
        "# Регрессия hjlogyl по предсказанным значениям hjgadp_h и hjyropen_h\n",
        "model8 = sm.OLS(data_subset['hjlogyl'], sm.add_constant(data_subset[['hjgadp_h', 'hjyropen_h']])).fit()\n",
        "print(model8.summary())"
      ],
      "metadata": {
        "colab": {
          "base_uri": "https://localhost:8080/"
        },
        "id": "dLG3F_FeA2p8",
        "outputId": "2f341905-7b56-4c0c-ca4f-6632e6cd4e90"
      },
      "execution_count": null,
      "outputs": [
        {
          "output_type": "stream",
          "name": "stdout",
          "text": [
            "                            OLS Regression Results                            \n",
            "==============================================================================\n",
            "Dep. Variable:                hjlogyl   R-squared:                         nan\n",
            "Model:                            OLS   Adj. R-squared:                    nan\n",
            "Method:                 Least Squares   F-statistic:                       nan\n",
            "Date:                Fri, 22 Mar 2024   Prob (F-statistic):                nan\n",
            "Time:                        18:33:00   Log-Likelihood:                    inf\n",
            "No. Observations:                 130   AIC:                              -inf\n",
            "Df Residuals:                     127   BIC:                              -inf\n",
            "Df Model:                           2                                         \n",
            "Covariance Type:            nonrobust                                         \n",
            "==============================================================================\n",
            "                 coef    std err          t      P>|t|      [0.025      0.975]\n",
            "------------------------------------------------------------------------------\n",
            "const               0          0        nan        nan           0           0\n",
            "hjgadp_h            0          0        nan        nan           0           0\n",
            "hjyropen_h          0          0        nan        nan           0           0\n",
            "==============================================================================\n",
            "Omnibus:                          nan   Durbin-Watson:                     nan\n",
            "Prob(Omnibus):                    nan   Jarque-Bera (JB):                  nan\n",
            "Skew:                             nan   Prob(JB):                          nan\n",
            "Kurtosis:                         nan   Cond. No.                         48.1\n",
            "==============================================================================\n",
            "\n",
            "Notes:\n",
            "[1] Standard Errors assume that the covariance matrix of the errors is correctly specified.\n"
          ]
        },
        {
          "output_type": "stream",
          "name": "stderr",
          "text": [
            "/usr/local/lib/python3.10/dist-packages/statsmodels/regression/linear_model.py:1782: RuntimeWarning: invalid value encountered in scalar divide\n",
            "  return 1 - self.ssr/self.centered_tss\n",
            "/usr/local/lib/python3.10/dist-packages/statsmodels/regression/linear_model.py:1871: RuntimeWarning: invalid value encountered in scalar divide\n",
            "  return self.mse_model/self.mse_resid\n",
            "/usr/local/lib/python3.10/dist-packages/statsmodels/regression/linear_model.py:957: RuntimeWarning: divide by zero encountered in log\n",
            "  llf = -nobs2*np.log(2*np.pi) - nobs2*np.log(ssr / nobs) - nobs2\n",
            "/usr/local/lib/python3.10/dist-packages/statsmodels/stats/stattools.py:50: RuntimeWarning: invalid value encountered in scalar divide\n",
            "  dw = np.sum(diff_resids**2, axis=axis) / np.sum(resids**2, axis=axis)\n"
          ]
        }
      ]
    },
    {
      "cell_type": "code",
      "source": [
        "# Регрессия hjlogyl по hjgadp, hjyropen, остаткам hjgadp_res и hjyropen_res\n",
        "model9 = sm.OLS(data_subset['hjlogyl'], sm.add_constant(data_subset[['hjgadp', 'hjyropen', 'hjgadp_res', 'hjyropen_res']])).fit()\n",
        "print(model9.summary())"
      ],
      "metadata": {
        "colab": {
          "base_uri": "https://localhost:8080/"
        },
        "id": "VTQj2Nv0A2tQ",
        "outputId": "d0751117-6fce-4502-d046-20ec5ceacc72"
      },
      "execution_count": null,
      "outputs": [
        {
          "output_type": "stream",
          "name": "stdout",
          "text": [
            "                            OLS Regression Results                            \n",
            "==============================================================================\n",
            "Dep. Variable:                hjlogyl   R-squared:                         nan\n",
            "Model:                            OLS   Adj. R-squared:                    nan\n",
            "Method:                 Least Squares   F-statistic:                       nan\n",
            "Date:                Fri, 22 Mar 2024   Prob (F-statistic):                nan\n",
            "Time:                        18:33:04   Log-Likelihood:                    inf\n",
            "No. Observations:                 130   AIC:                              -inf\n",
            "Df Residuals:                     125   BIC:                              -inf\n",
            "Df Model:                           4                                         \n",
            "Covariance Type:            nonrobust                                         \n",
            "================================================================================\n",
            "                   coef    std err          t      P>|t|      [0.025      0.975]\n",
            "--------------------------------------------------------------------------------\n",
            "const                 0          0        nan        nan           0           0\n",
            "hjgadp                0          0        nan        nan           0           0\n",
            "hjyropen              0          0        nan        nan           0           0\n",
            "hjgadp_res            0          0        nan        nan           0           0\n",
            "hjyropen_res          0          0        nan        nan           0           0\n",
            "==============================================================================\n",
            "Omnibus:                          nan   Durbin-Watson:                     nan\n",
            "Prob(Omnibus):                    nan   Jarque-Bera (JB):                  nan\n",
            "Skew:                             nan   Prob(JB):                          nan\n",
            "Kurtosis:                         nan   Cond. No.                         67.5\n",
            "==============================================================================\n",
            "\n",
            "Notes:\n",
            "[1] Standard Errors assume that the covariance matrix of the errors is correctly specified.\n"
          ]
        },
        {
          "output_type": "stream",
          "name": "stderr",
          "text": [
            "/usr/local/lib/python3.10/dist-packages/statsmodels/regression/linear_model.py:1782: RuntimeWarning: invalid value encountered in scalar divide\n",
            "  return 1 - self.ssr/self.centered_tss\n",
            "/usr/local/lib/python3.10/dist-packages/statsmodels/regression/linear_model.py:1871: RuntimeWarning: invalid value encountered in scalar divide\n",
            "  return self.mse_model/self.mse_resid\n",
            "/usr/local/lib/python3.10/dist-packages/statsmodels/regression/linear_model.py:957: RuntimeWarning: divide by zero encountered in log\n",
            "  llf = -nobs2*np.log(2*np.pi) - nobs2*np.log(ssr / nobs) - nobs2\n",
            "/usr/local/lib/python3.10/dist-packages/statsmodels/stats/stattools.py:50: RuntimeWarning: invalid value encountered in scalar divide\n",
            "  dw = np.sum(diff_resids**2, axis=axis) / np.sum(resids**2, axis=axis)\n"
          ]
        }
      ]
    },
    {
      "cell_type": "code",
      "source": [
        "# Регрессия hjlogyl с использованием HC оценок стандартных ошибок для hjgadp, hjyropen, hjgadp_res и hjyropen_res\n",
        "model10 = sm.OLS(data_subset['hjlogyl'], sm.add_constant(data_subset[['hjgadp', 'hjyropen', 'hjgadp_res', 'hjyropen_res']])).fit(cov_type='HC1')\n",
        "print(model10.summary())"
      ],
      "metadata": {
        "colab": {
          "base_uri": "https://localhost:8080/"
        },
        "id": "Dd-_YzltA2v1",
        "outputId": "5d03eb0d-fb35-4449-dd2c-bc283192b3ce"
      },
      "execution_count": null,
      "outputs": [
        {
          "output_type": "stream",
          "name": "stdout",
          "text": [
            "                            OLS Regression Results                            \n",
            "==============================================================================\n",
            "Dep. Variable:                hjlogyl   R-squared:                         nan\n",
            "Model:                            OLS   Adj. R-squared:                    nan\n",
            "Method:                 Least Squares   F-statistic:                       nan\n",
            "Date:                Fri, 22 Mar 2024   Prob (F-statistic):                nan\n",
            "Time:                        18:33:07   Log-Likelihood:                    inf\n",
            "No. Observations:                 130   AIC:                              -inf\n",
            "Df Residuals:                     125   BIC:                              -inf\n",
            "Df Model:                           4                                         \n",
            "Covariance Type:                  HC1                                         \n",
            "================================================================================\n",
            "                   coef    std err          z      P>|z|      [0.025      0.975]\n",
            "--------------------------------------------------------------------------------\n",
            "const                 0          0        nan        nan           0           0\n",
            "hjgadp                0          0        nan        nan           0           0\n",
            "hjyropen              0          0        nan        nan           0           0\n",
            "hjgadp_res            0          0        nan        nan           0           0\n",
            "hjyropen_res          0          0        nan        nan           0           0\n",
            "==============================================================================\n",
            "Omnibus:                          nan   Durbin-Watson:                     nan\n",
            "Prob(Omnibus):                    nan   Jarque-Bera (JB):                  nan\n",
            "Skew:                             nan   Prob(JB):                          nan\n",
            "Kurtosis:                         nan   Cond. No.                         67.5\n",
            "==============================================================================\n",
            "\n",
            "Notes:\n",
            "[1] Standard Errors are heteroscedasticity robust (HC1)\n"
          ]
        },
        {
          "output_type": "stream",
          "name": "stderr",
          "text": [
            "/usr/local/lib/python3.10/dist-packages/statsmodels/regression/linear_model.py:1782: RuntimeWarning: invalid value encountered in scalar divide\n",
            "  return 1 - self.ssr/self.centered_tss\n",
            "/usr/local/lib/python3.10/dist-packages/statsmodels/base/model.py:1896: ValueWarning: covariance of constraints does not have full rank. The number of constraints is 4, but rank is 0\n",
            "  warnings.warn('covariance of constraints does not have full '\n",
            "/usr/local/lib/python3.10/dist-packages/statsmodels/base/model.py:1925: RuntimeWarning: invalid value encountered in divide\n",
            "  F /= J\n",
            "/usr/local/lib/python3.10/dist-packages/statsmodels/regression/linear_model.py:957: RuntimeWarning: divide by zero encountered in log\n",
            "  llf = -nobs2*np.log(2*np.pi) - nobs2*np.log(ssr / nobs) - nobs2\n",
            "/usr/local/lib/python3.10/dist-packages/statsmodels/stats/stattools.py:50: RuntimeWarning: invalid value encountered in scalar divide\n",
            "  dw = np.sum(diff_resids**2, axis=axis) / np.sum(resids**2, axis=axis)\n"
          ]
        }
      ]
    },
    {
      "cell_type": "code",
      "source": [
        "# IV-регрессия методом 2SLS для контроля эндогенности\n",
        "formula = 'hjlogyl ~ 1 + [hjgadp ~ hjengfra + hjeurfr + hjlogfr + hjlatitu] + [hjyropen ~ hjengfra + hjeurfr + hjlogfr + hjlatitu]'\n",
        "iv_model = IV2SLS.from_formula(formula, data=data_subset).fit()\n",
        "print(iv_model)"
      ],
      "metadata": {
        "colab": {
          "base_uri": "https://localhost:8080/",
          "height": 339
        },
        "id": "ehjP79azBa7N",
        "outputId": "6d400272-24f8-493f-ef69-746703371c67"
      },
      "execution_count": null,
      "outputs": [
        {
          "output_type": "error",
          "ename": "ValueError",
          "evalue": "formula contains more then 2 separators (~)",
          "traceback": [
            "\u001b[0;31m---------------------------------------------------------------------------\u001b[0m",
            "\u001b[0;31mValueError\u001b[0m                                Traceback (most recent call last)",
            "\u001b[0;32m<ipython-input-21-38e45c78b815>\u001b[0m in \u001b[0;36m<cell line: 3>\u001b[0;34m()\u001b[0m\n\u001b[1;32m      1\u001b[0m \u001b[0;31m# IV-регрессия методом 2SLS для контроля эндогенности\u001b[0m\u001b[0;34m\u001b[0m\u001b[0;34m\u001b[0m\u001b[0m\n\u001b[1;32m      2\u001b[0m \u001b[0mformula\u001b[0m \u001b[0;34m=\u001b[0m \u001b[0;34m'hjlogyl ~ 1 + [hjgadp ~ hjengfra + hjeurfr + hjlogfr + hjlatitu] + [hjyropen ~ hjengfra + hjeurfr + hjlogfr + hjlatitu]'\u001b[0m\u001b[0;34m\u001b[0m\u001b[0;34m\u001b[0m\u001b[0m\n\u001b[0;32m----> 3\u001b[0;31m \u001b[0miv_model\u001b[0m \u001b[0;34m=\u001b[0m \u001b[0mIV2SLS\u001b[0m\u001b[0;34m.\u001b[0m\u001b[0mfrom_formula\u001b[0m\u001b[0;34m(\u001b[0m\u001b[0mformula\u001b[0m\u001b[0;34m,\u001b[0m \u001b[0mdata\u001b[0m\u001b[0;34m=\u001b[0m\u001b[0mdata_subset\u001b[0m\u001b[0;34m)\u001b[0m\u001b[0;34m.\u001b[0m\u001b[0mfit\u001b[0m\u001b[0;34m(\u001b[0m\u001b[0;34m)\u001b[0m\u001b[0;34m\u001b[0m\u001b[0;34m\u001b[0m\u001b[0m\n\u001b[0m\u001b[1;32m      4\u001b[0m \u001b[0mprint\u001b[0m\u001b[0;34m(\u001b[0m\u001b[0miv_model\u001b[0m\u001b[0;34m)\u001b[0m\u001b[0;34m\u001b[0m\u001b[0;34m\u001b[0m\u001b[0m\n",
            "\u001b[0;32m/usr/local/lib/python3.10/dist-packages/linearmodels/iv/model.py\u001b[0m in \u001b[0;36mfrom_formula\u001b[0;34m(formula, data, weights)\u001b[0m\n\u001b[1;32m    928\u001b[0m         \u001b[0;34m>>\u001b[0m\u001b[0;34m>\u001b[0m \u001b[0mmod\u001b[0m \u001b[0;34m=\u001b[0m \u001b[0mIV2SLS\u001b[0m\u001b[0;34m.\u001b[0m\u001b[0mfrom_formula\u001b[0m\u001b[0;34m(\u001b[0m\u001b[0mformula\u001b[0m\u001b[0;34m,\u001b[0m \u001b[0mdata\u001b[0m\u001b[0;34m)\u001b[0m\u001b[0;34m\u001b[0m\u001b[0;34m\u001b[0m\u001b[0m\n\u001b[1;32m    929\u001b[0m         \"\"\"\n\u001b[0;32m--> 930\u001b[0;31m         \u001b[0mparser\u001b[0m \u001b[0;34m=\u001b[0m \u001b[0mIVFormulaParser\u001b[0m\u001b[0;34m(\u001b[0m\u001b[0mformula\u001b[0m\u001b[0;34m,\u001b[0m \u001b[0mdata\u001b[0m\u001b[0;34m)\u001b[0m\u001b[0;34m\u001b[0m\u001b[0;34m\u001b[0m\u001b[0m\n\u001b[0m\u001b[1;32m    931\u001b[0m         \u001b[0mdep\u001b[0m\u001b[0;34m,\u001b[0m \u001b[0mexog\u001b[0m\u001b[0;34m,\u001b[0m \u001b[0mendog\u001b[0m\u001b[0;34m,\u001b[0m \u001b[0minstr\u001b[0m \u001b[0;34m=\u001b[0m \u001b[0mparser\u001b[0m\u001b[0;34m.\u001b[0m\u001b[0mdata\u001b[0m\u001b[0;34m\u001b[0m\u001b[0;34m\u001b[0m\u001b[0m\n\u001b[1;32m    932\u001b[0m         \u001b[0mmod\u001b[0m \u001b[0;34m=\u001b[0m \u001b[0mIV2SLS\u001b[0m\u001b[0;34m(\u001b[0m\u001b[0mdep\u001b[0m\u001b[0;34m,\u001b[0m \u001b[0mexog\u001b[0m\u001b[0;34m,\u001b[0m \u001b[0mendog\u001b[0m\u001b[0;34m,\u001b[0m \u001b[0minstr\u001b[0m\u001b[0;34m,\u001b[0m \u001b[0mweights\u001b[0m\u001b[0;34m=\u001b[0m\u001b[0mweights\u001b[0m\u001b[0;34m)\u001b[0m\u001b[0;34m\u001b[0m\u001b[0;34m\u001b[0m\u001b[0m\n",
            "\u001b[0;32m/usr/local/lib/python3.10/dist-packages/linearmodels/iv/_utility.py\u001b[0m in \u001b[0;36m__init__\u001b[0;34m(self, formula, data, eval_env, context)\u001b[0m\n\u001b[1;32m     99\u001b[0m             \u001b[0mself\u001b[0m\u001b[0;34m.\u001b[0m\u001b[0m_context\u001b[0m \u001b[0;34m=\u001b[0m \u001b[0mcontext\u001b[0m\u001b[0;34m\u001b[0m\u001b[0;34m\u001b[0m\u001b[0m\n\u001b[1;32m    100\u001b[0m         \u001b[0mself\u001b[0m\u001b[0;34m.\u001b[0m\u001b[0m_components\u001b[0m\u001b[0;34m:\u001b[0m \u001b[0mdict\u001b[0m\u001b[0;34m[\u001b[0m\u001b[0mstr\u001b[0m\u001b[0;34m,\u001b[0m \u001b[0mstr\u001b[0m\u001b[0;34m]\u001b[0m \u001b[0;34m=\u001b[0m \u001b[0;34m{\u001b[0m\u001b[0;34m}\u001b[0m\u001b[0;34m\u001b[0m\u001b[0;34m\u001b[0m\u001b[0m\n\u001b[0;32m--> 101\u001b[0;31m         \u001b[0mself\u001b[0m\u001b[0;34m.\u001b[0m\u001b[0m_parse\u001b[0m\u001b[0;34m(\u001b[0m\u001b[0;34m)\u001b[0m\u001b[0;34m\u001b[0m\u001b[0;34m\u001b[0m\u001b[0m\n\u001b[0m\u001b[1;32m    102\u001b[0m \u001b[0;34m\u001b[0m\u001b[0m\n\u001b[1;32m    103\u001b[0m     \u001b[0;32mdef\u001b[0m \u001b[0m_parse\u001b[0m\u001b[0;34m(\u001b[0m\u001b[0mself\u001b[0m\u001b[0;34m)\u001b[0m \u001b[0;34m->\u001b[0m \u001b[0;32mNone\u001b[0m\u001b[0;34m:\u001b[0m\u001b[0;34m\u001b[0m\u001b[0;34m\u001b[0m\u001b[0m\n",
            "\u001b[0;32m/usr/local/lib/python3.10/dist-packages/linearmodels/iv/_utility.py\u001b[0m in \u001b[0;36m_parse\u001b[0;34m(self)\u001b[0m\n\u001b[1;32m    135\u001b[0m             \u001b[0mexog\u001b[0m \u001b[0;34m=\u001b[0m \u001b[0;34m\"0\"\u001b[0m \u001b[0;32mif\u001b[0m \u001b[0;32mnot\u001b[0m \u001b[0mexog\u001b[0m \u001b[0;32melse\u001b[0m \u001b[0;34m\"0 + \"\u001b[0m \u001b[0;34m+\u001b[0m \u001b[0mexog\u001b[0m\u001b[0;34m\u001b[0m\u001b[0;34m\u001b[0m\u001b[0m\n\u001b[1;32m    136\u001b[0m         \u001b[0;32melse\u001b[0m\u001b[0;34m:\u001b[0m\u001b[0;34m\u001b[0m\u001b[0;34m\u001b[0m\u001b[0m\n\u001b[0;32m--> 137\u001b[0;31m             \u001b[0;32mraise\u001b[0m \u001b[0mValueError\u001b[0m\u001b[0;34m(\u001b[0m\u001b[0;34m\"formula contains more then 2 separators (~)\"\u001b[0m\u001b[0;34m)\u001b[0m\u001b[0;34m\u001b[0m\u001b[0;34m\u001b[0m\u001b[0m\n\u001b[0m\u001b[1;32m    138\u001b[0m         comp = {\n\u001b[1;32m    139\u001b[0m             \u001b[0;34m\"dependent\"\u001b[0m\u001b[0;34m:\u001b[0m \u001b[0;34m\"0 + \"\u001b[0m \u001b[0;34m+\u001b[0m \u001b[0mdep\u001b[0m\u001b[0;34m,\u001b[0m\u001b[0;34m\u001b[0m\u001b[0;34m\u001b[0m\u001b[0m\n",
            "\u001b[0;31mValueError\u001b[0m: formula contains more then 2 separators (~)"
          ]
        }
      ]
    },
    {
      "cell_type": "code",
      "source": [
        "# IV-регрессия методом 2SLS с использованием HC оценок стандартных ошибок\n",
        "formula = 'hjlogyl ~ 1 + [hjgadp ~ hjyropen + hjengfra + hjeurfr + hjlogfr + hjlatitu]'\n",
        "iv_model_hc = IV2SLS.from_formula(formula, data=data_subset).fit(cov_type='robust')\n",
        "print(iv_model_hc)"
      ],
      "metadata": {
        "colab": {
          "base_uri": "https://localhost:8080/",
          "height": 477
        },
        "id": "JL6Ra3nIBbCl",
        "outputId": "5832f4d4-b241-4212-c530-ab0e4cbdf680"
      },
      "execution_count": null,
      "outputs": [
        {
          "output_type": "stream",
          "name": "stderr",
          "text": [
            "/usr/local/lib/python3.10/dist-packages/linearmodels/shared/linalg.py:64: RuntimeWarning: divide by zero encountered in divide\n",
            "  return vecs @ np.diag(1 / np.sqrt(vals)) @ vecs.T\n",
            "/usr/local/lib/python3.10/dist-packages/linearmodels/shared/linalg.py:64: RuntimeWarning: invalid value encountered in matmul\n",
            "  return vecs @ np.diag(1 / np.sqrt(vals)) @ vecs.T\n",
            "/usr/local/lib/python3.10/dist-packages/linearmodels/iv/model.py:605: RuntimeWarning: invalid value encountered in matmul\n",
            "  q = vpmzv_sqinv @ (ex1.T @ ex1) @ vpmzv_sqinv\n",
            "/usr/local/lib/python3.10/dist-packages/linearmodels/iv/model.py:452: RuntimeWarning: invalid value encountered in divide\n",
            "  r2 = 1 - residual_ss / total_ss\n"
          ]
        },
        {
          "output_type": "error",
          "ename": "LinAlgError",
          "evalue": "Singular matrix",
          "traceback": [
            "\u001b[0;31m---------------------------------------------------------------------------\u001b[0m",
            "\u001b[0;31mLinAlgError\u001b[0m                               Traceback (most recent call last)",
            "\u001b[0;32m<ipython-input-22-36b0f6fe7c8e>\u001b[0m in \u001b[0;36m<cell line: 3>\u001b[0;34m()\u001b[0m\n\u001b[1;32m      1\u001b[0m \u001b[0;31m# IV-регрессия методом 2SLS с использованием HC оценок стандартных ошибок\u001b[0m\u001b[0;34m\u001b[0m\u001b[0;34m\u001b[0m\u001b[0m\n\u001b[1;32m      2\u001b[0m \u001b[0mformula\u001b[0m \u001b[0;34m=\u001b[0m \u001b[0;34m'hjlogyl ~ 1 + [hjgadp ~ hjyropen + hjengfra + hjeurfr + hjlogfr + hjlatitu]'\u001b[0m\u001b[0;34m\u001b[0m\u001b[0;34m\u001b[0m\u001b[0m\n\u001b[0;32m----> 3\u001b[0;31m \u001b[0miv_model_hc\u001b[0m \u001b[0;34m=\u001b[0m \u001b[0mIV2SLS\u001b[0m\u001b[0;34m.\u001b[0m\u001b[0mfrom_formula\u001b[0m\u001b[0;34m(\u001b[0m\u001b[0mformula\u001b[0m\u001b[0;34m,\u001b[0m \u001b[0mdata\u001b[0m\u001b[0;34m=\u001b[0m\u001b[0mdata_subset\u001b[0m\u001b[0;34m)\u001b[0m\u001b[0;34m.\u001b[0m\u001b[0mfit\u001b[0m\u001b[0;34m(\u001b[0m\u001b[0mcov_type\u001b[0m\u001b[0;34m=\u001b[0m\u001b[0;34m'robust'\u001b[0m\u001b[0;34m)\u001b[0m\u001b[0;34m\u001b[0m\u001b[0;34m\u001b[0m\u001b[0m\n\u001b[0m\u001b[1;32m      4\u001b[0m \u001b[0mprint\u001b[0m\u001b[0;34m(\u001b[0m\u001b[0miv_model_hc\u001b[0m\u001b[0;34m)\u001b[0m\u001b[0;34m\u001b[0m\u001b[0;34m\u001b[0m\u001b[0m\n",
            "\u001b[0;32m/usr/local/lib/python3.10/dist-packages/linearmodels/iv/model.py\u001b[0m in \u001b[0;36mfit\u001b[0;34m(self, cov_type, debiased, **cov_config)\u001b[0m\n\u001b[1;32m    686\u001b[0m \u001b[0;34m\u001b[0m\u001b[0m\n\u001b[1;32m    687\u001b[0m         \u001b[0mresults\u001b[0m \u001b[0;34m=\u001b[0m \u001b[0;34m{\u001b[0m\u001b[0;34m\"kappa\"\u001b[0m\u001b[0;34m:\u001b[0m \u001b[0mest_kappa\u001b[0m\u001b[0;34m,\u001b[0m \u001b[0;34m\"liml_kappa\"\u001b[0m\u001b[0;34m:\u001b[0m \u001b[0mliml_kappa\u001b[0m\u001b[0;34m}\u001b[0m\u001b[0;34m\u001b[0m\u001b[0;34m\u001b[0m\u001b[0m\n\u001b[0;32m--> 688\u001b[0;31m         \u001b[0mpe\u001b[0m \u001b[0;34m=\u001b[0m \u001b[0mself\u001b[0m\u001b[0;34m.\u001b[0m\u001b[0m_post_estimation\u001b[0m\u001b[0;34m(\u001b[0m\u001b[0mparams\u001b[0m\u001b[0;34m,\u001b[0m \u001b[0mcov_estimator_inst\u001b[0m\u001b[0;34m,\u001b[0m \u001b[0mcov_type\u001b[0m\u001b[0;34m)\u001b[0m\u001b[0;34m\u001b[0m\u001b[0;34m\u001b[0m\u001b[0m\n\u001b[0m\u001b[1;32m    689\u001b[0m         \u001b[0mresults\u001b[0m\u001b[0;34m.\u001b[0m\u001b[0mupdate\u001b[0m\u001b[0;34m(\u001b[0m\u001b[0mpe\u001b[0m\u001b[0;34m)\u001b[0m\u001b[0;34m\u001b[0m\u001b[0;34m\u001b[0m\u001b[0m\n\u001b[1;32m    690\u001b[0m \u001b[0;34m\u001b[0m\u001b[0m\n",
            "\u001b[0;32m/usr/local/lib/python3.10/dist-packages/linearmodels/iv/model.py\u001b[0m in \u001b[0;36m_post_estimation\u001b[0;34m(self, params, cov_estimator, cov_type)\u001b[0m\n\u001b[1;32m    452\u001b[0m         \u001b[0mr2\u001b[0m \u001b[0;34m=\u001b[0m \u001b[0;36m1\u001b[0m \u001b[0;34m-\u001b[0m \u001b[0mresidual_ss\u001b[0m \u001b[0;34m/\u001b[0m \u001b[0mtotal_ss\u001b[0m\u001b[0;34m\u001b[0m\u001b[0;34m\u001b[0m\u001b[0m\n\u001b[1;32m    453\u001b[0m \u001b[0;34m\u001b[0m\u001b[0m\n\u001b[0;32m--> 454\u001b[0;31m         \u001b[0mfstat\u001b[0m \u001b[0;34m=\u001b[0m \u001b[0mself\u001b[0m\u001b[0;34m.\u001b[0m\u001b[0m_f_statistic\u001b[0m\u001b[0;34m(\u001b[0m\u001b[0mparams\u001b[0m\u001b[0;34m,\u001b[0m \u001b[0mcov\u001b[0m\u001b[0;34m,\u001b[0m \u001b[0mdebiased\u001b[0m\u001b[0;34m)\u001b[0m\u001b[0;34m\u001b[0m\u001b[0;34m\u001b[0m\u001b[0m\n\u001b[0m\u001b[1;32m    455\u001b[0m         out = {\n\u001b[1;32m    456\u001b[0m             \u001b[0;34m\"params\"\u001b[0m\u001b[0;34m:\u001b[0m \u001b[0mSeries\u001b[0m\u001b[0;34m(\u001b[0m\u001b[0mparams\u001b[0m\u001b[0;34m.\u001b[0m\u001b[0msqueeze\u001b[0m\u001b[0;34m(\u001b[0m\u001b[0;34m)\u001b[0m\u001b[0;34m,\u001b[0m \u001b[0mcolumns\u001b[0m\u001b[0;34m,\u001b[0m \u001b[0mname\u001b[0m\u001b[0;34m=\u001b[0m\u001b[0;34m\"parameter\"\u001b[0m\u001b[0;34m)\u001b[0m\u001b[0;34m,\u001b[0m\u001b[0;34m\u001b[0m\u001b[0;34m\u001b[0m\u001b[0m\n",
            "\u001b[0;32m/usr/local/lib/python3.10/dist-packages/linearmodels/iv/model.py\u001b[0m in \u001b[0;36m_f_statistic\u001b[0;34m(self, params, cov, debiased)\u001b[0m\n\u001b[1;32m    426\u001b[0m         \u001b[0mconst_loc\u001b[0m \u001b[0;34m=\u001b[0m \u001b[0mfind_constant\u001b[0m\u001b[0;34m(\u001b[0m\u001b[0mself\u001b[0m\u001b[0;34m.\u001b[0m\u001b[0m_x\u001b[0m\u001b[0;34m)\u001b[0m\u001b[0;34m\u001b[0m\u001b[0;34m\u001b[0m\u001b[0m\n\u001b[1;32m    427\u001b[0m         \u001b[0mnobs\u001b[0m\u001b[0;34m,\u001b[0m \u001b[0mnvar\u001b[0m \u001b[0;34m=\u001b[0m \u001b[0mself\u001b[0m\u001b[0;34m.\u001b[0m\u001b[0m_x\u001b[0m\u001b[0;34m.\u001b[0m\u001b[0mshape\u001b[0m\u001b[0;34m\u001b[0m\u001b[0;34m\u001b[0m\u001b[0m\n\u001b[0;32m--> 428\u001b[0;31m         \u001b[0;32mreturn\u001b[0m \u001b[0mf_statistic\u001b[0m\u001b[0;34m(\u001b[0m\u001b[0mparams\u001b[0m\u001b[0;34m,\u001b[0m \u001b[0mcov\u001b[0m\u001b[0;34m,\u001b[0m \u001b[0mdebiased\u001b[0m\u001b[0;34m,\u001b[0m \u001b[0mnobs\u001b[0m \u001b[0;34m-\u001b[0m \u001b[0mnvar\u001b[0m\u001b[0;34m,\u001b[0m \u001b[0mconst_loc\u001b[0m\u001b[0;34m)\u001b[0m\u001b[0;34m\u001b[0m\u001b[0;34m\u001b[0m\u001b[0m\n\u001b[0m\u001b[1;32m    429\u001b[0m \u001b[0;34m\u001b[0m\u001b[0m\n\u001b[1;32m    430\u001b[0m     def _post_estimation(\n",
            "\u001b[0;32m/usr/local/lib/python3.10/dist-packages/linearmodels/iv/common.py\u001b[0m in \u001b[0;36mf_statistic\u001b[0;34m(params, cov, debiased, resid_df, const_loc)\u001b[0m\n\u001b[1;32m     67\u001b[0m     \u001b[0mtest_params\u001b[0m \u001b[0;34m=\u001b[0m \u001b[0mparams\u001b[0m\u001b[0;34m[\u001b[0m\u001b[0mnon_const\u001b[0m\u001b[0;34m]\u001b[0m\u001b[0;34m\u001b[0m\u001b[0;34m\u001b[0m\u001b[0m\n\u001b[1;32m     68\u001b[0m     \u001b[0mtest_cov\u001b[0m \u001b[0;34m=\u001b[0m \u001b[0mcov\u001b[0m\u001b[0;34m[\u001b[0m\u001b[0mix_\u001b[0m\u001b[0;34m(\u001b[0m\u001b[0mnon_const\u001b[0m\u001b[0;34m,\u001b[0m \u001b[0mnon_const\u001b[0m\u001b[0;34m)\u001b[0m\u001b[0;34m]\u001b[0m\u001b[0;34m\u001b[0m\u001b[0;34m\u001b[0m\u001b[0m\n\u001b[0;32m---> 69\u001b[0;31m     \u001b[0mtest_stat\u001b[0m \u001b[0;34m=\u001b[0m \u001b[0mfloat\u001b[0m\u001b[0;34m(\u001b[0m\u001b[0msqueeze\u001b[0m\u001b[0;34m(\u001b[0m\u001b[0mtest_params\u001b[0m\u001b[0;34m.\u001b[0m\u001b[0mT\u001b[0m \u001b[0;34m@\u001b[0m \u001b[0minv\u001b[0m\u001b[0;34m(\u001b[0m\u001b[0mtest_cov\u001b[0m\u001b[0;34m)\u001b[0m \u001b[0;34m@\u001b[0m \u001b[0mtest_params\u001b[0m\u001b[0;34m)\u001b[0m\u001b[0;34m)\u001b[0m\u001b[0;34m\u001b[0m\u001b[0;34m\u001b[0m\u001b[0m\n\u001b[0m\u001b[1;32m     70\u001b[0m     \u001b[0mdf\u001b[0m \u001b[0;34m=\u001b[0m \u001b[0mtest_params\u001b[0m\u001b[0;34m.\u001b[0m\u001b[0mshape\u001b[0m\u001b[0;34m[\u001b[0m\u001b[0;36m0\u001b[0m\u001b[0;34m]\u001b[0m\u001b[0;34m\u001b[0m\u001b[0;34m\u001b[0m\u001b[0m\n\u001b[1;32m     71\u001b[0m     \u001b[0;32mif\u001b[0m \u001b[0mdebiased\u001b[0m\u001b[0;34m:\u001b[0m\u001b[0;34m\u001b[0m\u001b[0;34m\u001b[0m\u001b[0m\n",
            "\u001b[0;32m/usr/local/lib/python3.10/dist-packages/numpy/linalg/linalg.py\u001b[0m in \u001b[0;36minv\u001b[0;34m(a)\u001b[0m\n\u001b[1;32m    559\u001b[0m     \u001b[0msignature\u001b[0m \u001b[0;34m=\u001b[0m \u001b[0;34m'D->D'\u001b[0m \u001b[0;32mif\u001b[0m \u001b[0misComplexType\u001b[0m\u001b[0;34m(\u001b[0m\u001b[0mt\u001b[0m\u001b[0;34m)\u001b[0m \u001b[0;32melse\u001b[0m \u001b[0;34m'd->d'\u001b[0m\u001b[0;34m\u001b[0m\u001b[0;34m\u001b[0m\u001b[0m\n\u001b[1;32m    560\u001b[0m     \u001b[0mextobj\u001b[0m \u001b[0;34m=\u001b[0m \u001b[0mget_linalg_error_extobj\u001b[0m\u001b[0;34m(\u001b[0m\u001b[0m_raise_linalgerror_singular\u001b[0m\u001b[0;34m)\u001b[0m\u001b[0;34m\u001b[0m\u001b[0;34m\u001b[0m\u001b[0m\n\u001b[0;32m--> 561\u001b[0;31m     \u001b[0mainv\u001b[0m \u001b[0;34m=\u001b[0m \u001b[0m_umath_linalg\u001b[0m\u001b[0;34m.\u001b[0m\u001b[0minv\u001b[0m\u001b[0;34m(\u001b[0m\u001b[0ma\u001b[0m\u001b[0;34m,\u001b[0m \u001b[0msignature\u001b[0m\u001b[0;34m=\u001b[0m\u001b[0msignature\u001b[0m\u001b[0;34m,\u001b[0m \u001b[0mextobj\u001b[0m\u001b[0;34m=\u001b[0m\u001b[0mextobj\u001b[0m\u001b[0;34m)\u001b[0m\u001b[0;34m\u001b[0m\u001b[0;34m\u001b[0m\u001b[0m\n\u001b[0m\u001b[1;32m    562\u001b[0m     \u001b[0;32mreturn\u001b[0m \u001b[0mwrap\u001b[0m\u001b[0;34m(\u001b[0m\u001b[0mainv\u001b[0m\u001b[0;34m.\u001b[0m\u001b[0mastype\u001b[0m\u001b[0;34m(\u001b[0m\u001b[0mresult_t\u001b[0m\u001b[0;34m,\u001b[0m \u001b[0mcopy\u001b[0m\u001b[0;34m=\u001b[0m\u001b[0;32mFalse\u001b[0m\u001b[0;34m)\u001b[0m\u001b[0;34m)\u001b[0m\u001b[0;34m\u001b[0m\u001b[0;34m\u001b[0m\u001b[0m\n\u001b[1;32m    563\u001b[0m \u001b[0;34m\u001b[0m\u001b[0m\n",
            "\u001b[0;32m/usr/local/lib/python3.10/dist-packages/numpy/linalg/linalg.py\u001b[0m in \u001b[0;36m_raise_linalgerror_singular\u001b[0;34m(err, flag)\u001b[0m\n\u001b[1;32m    110\u001b[0m \u001b[0;34m\u001b[0m\u001b[0m\n\u001b[1;32m    111\u001b[0m \u001b[0;32mdef\u001b[0m \u001b[0m_raise_linalgerror_singular\u001b[0m\u001b[0;34m(\u001b[0m\u001b[0merr\u001b[0m\u001b[0;34m,\u001b[0m \u001b[0mflag\u001b[0m\u001b[0;34m)\u001b[0m\u001b[0;34m:\u001b[0m\u001b[0;34m\u001b[0m\u001b[0;34m\u001b[0m\u001b[0m\n\u001b[0;32m--> 112\u001b[0;31m     \u001b[0;32mraise\u001b[0m \u001b[0mLinAlgError\u001b[0m\u001b[0;34m(\u001b[0m\u001b[0;34m\"Singular matrix\"\u001b[0m\u001b[0;34m)\u001b[0m\u001b[0;34m\u001b[0m\u001b[0;34m\u001b[0m\u001b[0m\n\u001b[0m\u001b[1;32m    113\u001b[0m \u001b[0;34m\u001b[0m\u001b[0m\n\u001b[1;32m    114\u001b[0m \u001b[0;32mdef\u001b[0m \u001b[0m_raise_linalgerror_nonposdef\u001b[0m\u001b[0;34m(\u001b[0m\u001b[0merr\u001b[0m\u001b[0;34m,\u001b[0m \u001b[0mflag\u001b[0m\u001b[0;34m)\u001b[0m\u001b[0;34m:\u001b[0m\u001b[0;34m\u001b[0m\u001b[0;34m\u001b[0m\u001b[0m\n",
            "\u001b[0;31mLinAlgError\u001b[0m: Singular matrix"
          ]
        }
      ]
    },
    {
      "cell_type": "code",
      "source": [],
      "metadata": {
        "id": "ML1X9tmYA21l"
      },
      "execution_count": null,
      "outputs": []
    }
  ]
}